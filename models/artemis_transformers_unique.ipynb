{
  "cells": [
    {
      "cell_type": "code",
      "execution_count": 1,
      "metadata": {
        "id": "IjspPFjMtxWF"
      },
      "outputs": [],
      "source": [
        "# The MIT License (MIT) Copyright (c) 2024 Andrés Urbano Andrea, Núñez Quintana Luis Axel & Ramírez Gómez María Emilia\n",
        "#\n",
        "# Permission is hereby granted, free of charge, to any person obtaining a copy of\n",
        "# this software and associated documentation files (the \"Software\"), to deal in the Software without\n",
        "# restriction, including without limitation the rights to use, copy, modify, merge, publish,\n",
        "# distribute, sublicense, and/or sell copies of the Software, and to permit persons to whom the\n",
        "# Software is furnished to do so, subject to the following conditions:\n",
        "#\n",
        "# The above copyright notice and this permission notice shall be included in all copies or\n",
        "# substantial portions of the Software.\n",
        "#\n",
        "# THE SOFTWARE IS PROVIDED \"AS IS\", WITHOUT WARRANTY OF ANY KIND, EXPRESS OR IMPLIED,\n",
        "# INCLUDING BUT NOT LIMITED TO THE WARRANTIES OF MERCHANTABILITY, FITNESS FOR A PARTICULAR PURPOSE AND\n",
        "# NONINFRINGEMENT. IN NO EVENT SHALL THE AUTHORS OR COPYRIGHT HOLDERS BE LIABLE FOR ANY CLAIM, DAMAGES\n",
        "# OR OTHER LIABILITY, WHETHER IN AN ACTION OF CONTRACT, TORT OR OTHERWISE, ARISING FROM, OUT OF OR IN\n",
        "# CONNECTION WITH THE SOFTWARE OR THE USE OR OTHER DEALINGS IN THE SOFTWARE."
      ]
    },
    {
      "cell_type": "markdown",
      "metadata": {
        "id": "pn1TsFNwtxWH"
      },
      "source": [
        "<table class=\"tfo-notebook-buttons\" align=\"left\">\n",
        "  <td>\n",
        "    <a target=\"_blank\" href=\"https://colab.research.google.com/github/Andrea585976/ArtEmis-ProyectoPLN/blob/main/models/artemis_transformers_unique.ipynb\">\n",
        "    <img src=\"https://www.tensorflow.org/images/colab_logo_32px.png\" />\n",
        "    Run in Google Colab</a>\n",
        "  </td>\n",
        "</table>"
      ]
    },
    {
      "cell_type": "markdown",
      "metadata": {
        "id": "q3ePBxUitxWH"
      },
      "source": [
        "# Image Captioning Transformer"
      ]
    },
    {
      "cell_type": "markdown",
      "metadata": {
        "id": "dpXA7Q3ttxWI"
      },
      "source": [
        "\n",
        "- This notebook explores the combination of Transformers and CNNs for image captioning, showcasing their remarkable ability to generate descriptive textual captions based on visual content."
      ]
    },
    {
      "cell_type": "markdown",
      "source": [
        "## 0. Dependencias"
      ],
      "metadata": {
        "id": "spSoKcbjhc6R"
      }
    },
    {
      "cell_type": "code",
      "execution_count": 2,
      "metadata": {
        "id": "ryOL1_XG4ABQ",
        "colab": {
          "base_uri": "https://localhost:8080/",
          "height": 36
        },
        "outputId": "d9a30932-053f-4370-f6c3-5be8b74f89d2"
      },
      "outputs": [
        {
          "output_type": "execute_result",
          "data": {
            "text/plain": [
              "'2.2.1+cu121'"
            ],
            "application/vnd.google.colaboratory.intrinsic+json": {
              "type": "string"
            }
          },
          "metadata": {},
          "execution_count": 2
        }
      ],
      "source": [
        "from collections import Counter\n",
        "import matplotlib.pyplot as plt\n",
        "import numpy as np\n",
        "import os\n",
        "import pandas as pd\n",
        "import pathlib\n",
        "import PIL\n",
        "from PIL import Image\n",
        "import random\n",
        "import time\n",
        "import torch\n",
        "from torch import optim\n",
        "from torch.nn.utils.rnn import pad_sequence\n",
        "from torch.utils.data import DataLoader\n",
        "import torch.nn as nn\n",
        "from torch.nn.utils.rnn import pad_sequence\n",
        "from torchtext.data.utils import get_tokenizer\n",
        "from torchtext.vocab import vocab as Vocab\n",
        "import torchvision\n",
        "from torchvision import transforms\n",
        "\n",
        "torch.__version__"
      ]
    },
    {
      "cell_type": "code",
      "execution_count": 3,
      "metadata": {
        "colab": {
          "base_uri": "https://localhost:8080/"
        },
        "id": "0bUIgZ_RtxWJ",
        "outputId": "36d2bd1a-d15b-49cf-8d22-351741ce6614"
      },
      "outputs": [
        {
          "output_type": "execute_result",
          "data": {
            "text/plain": [
              "<torch._C.Generator at 0x7c1dfa68f6f0>"
            ]
          },
          "metadata": {},
          "execution_count": 3
        }
      ],
      "source": [
        "torch.manual_seed(77)"
      ]
    },
    {
      "cell_type": "markdown",
      "metadata": {
        "id": "wrHG-hNPtxWK"
      },
      "source": [
        "## 1.- Dataset"
      ]
    },
    {
      "cell_type": "code",
      "source": [
        "# Download dataset\n",
        "if not os.path.exists('img'):\n",
        "  !wget https://github.com/Andrea585976/ArtEmis-ProyectoPLN/raw/main/img.zip\n",
        "  !unzip img.zip\n",
        "  !rm img.zip\n",
        "if not os.path.exists('romanticism_dataset.csv'):\n",
        "  !wget https://raw.githubusercontent.com/Andrea585976/ArtEmis-ProyectoPLN/main/romanticism_dataset.csv\n"
      ],
      "metadata": {
        "id": "DNmrD9kOufHF"
      },
      "execution_count": 4,
      "outputs": []
    },
    {
      "cell_type": "code",
      "source": [
        "# Cargar el archivo CSV en un DataFrame de pandas\n",
        "df = pd.read_csv('romanticism_dataset.csv')\n",
        "print(df.columns)\n",
        "\n",
        "images = df.loc[:, ['painting', 'utterance']]\n",
        "images['painting'] = images['painting'].apply(lambda x: 'img/' + x + '.jpg')\n",
        "\n",
        "images.head(10)"
      ],
      "metadata": {
        "colab": {
          "base_uri": "https://localhost:8080/",
          "height": 381
        },
        "id": "-ihR_qGyvey7",
        "outputId": "d6888a3b-3d23-4094-bba4-b7e220dfac33"
      },
      "execution_count": 5,
      "outputs": [
        {
          "output_type": "stream",
          "name": "stdout",
          "text": [
            "Index(['painting', 'emotion', 'utterance', 'repetition'], dtype='object')\n"
          ]
        },
        {
          "output_type": "execute_result",
          "data": {
            "text/plain": [
              "                                            painting  \\\n",
              "0  img/viktor-vasnetsov_ivan-tsarevich-riding-the...   \n",
              "1  img/viktor-vasnetsov_ivan-tsarevich-riding-the...   \n",
              "2            img/william-turner_fishermen-at-sea.jpg   \n",
              "3            img/william-turner_fishermen-at-sea.jpg   \n",
              "4              img/paul-cezanne_the-oilmill-1871.jpg   \n",
              "5  img/n.c.-wyeth_merlin-taking-away-the-infant-a...   \n",
              "6       img/orest-kiprensky_the-family-of-satyrs.jpg   \n",
              "7  img/sir-lawrence-alma-tadema_strigils-and-spon...   \n",
              "8         img/orest-kiprensky_putto-with-a-globe.jpg   \n",
              "9     img/sir-lawrence-alma-tadema_pleading-1876.jpg   \n",
              "\n",
              "                                           utterance  \n",
              "0  The scene is quite beautiful and reminds me of...  \n",
              "1  There is a sense of romance between the two pe...  \n",
              "2  There is a spooky feel to this image, with the...  \n",
              "3  The boat makes a dangerous journey alone at ni...  \n",
              "4  The village looks very rudimentary with it's s...  \n",
              "5  It looks like the baby is being taken for what...  \n",
              "6    The imps playfully dance and sing to the music.  \n",
              "7  The women appear quite interested in one anoth...  \n",
              "8  The little boy is trying to roll the globe aro...  \n",
              "9  The man laying down in this painting feels lik...  "
            ],
            "text/html": [
              "\n",
              "  <div id=\"df-3eaa47b4-89e0-48db-8129-320f15017064\" class=\"colab-df-container\">\n",
              "    <div>\n",
              "<style scoped>\n",
              "    .dataframe tbody tr th:only-of-type {\n",
              "        vertical-align: middle;\n",
              "    }\n",
              "\n",
              "    .dataframe tbody tr th {\n",
              "        vertical-align: top;\n",
              "    }\n",
              "\n",
              "    .dataframe thead th {\n",
              "        text-align: right;\n",
              "    }\n",
              "</style>\n",
              "<table border=\"1\" class=\"dataframe\">\n",
              "  <thead>\n",
              "    <tr style=\"text-align: right;\">\n",
              "      <th></th>\n",
              "      <th>painting</th>\n",
              "      <th>utterance</th>\n",
              "    </tr>\n",
              "  </thead>\n",
              "  <tbody>\n",
              "    <tr>\n",
              "      <th>0</th>\n",
              "      <td>img/viktor-vasnetsov_ivan-tsarevich-riding-the...</td>\n",
              "      <td>The scene is quite beautiful and reminds me of...</td>\n",
              "    </tr>\n",
              "    <tr>\n",
              "      <th>1</th>\n",
              "      <td>img/viktor-vasnetsov_ivan-tsarevich-riding-the...</td>\n",
              "      <td>There is a sense of romance between the two pe...</td>\n",
              "    </tr>\n",
              "    <tr>\n",
              "      <th>2</th>\n",
              "      <td>img/william-turner_fishermen-at-sea.jpg</td>\n",
              "      <td>There is a spooky feel to this image, with the...</td>\n",
              "    </tr>\n",
              "    <tr>\n",
              "      <th>3</th>\n",
              "      <td>img/william-turner_fishermen-at-sea.jpg</td>\n",
              "      <td>The boat makes a dangerous journey alone at ni...</td>\n",
              "    </tr>\n",
              "    <tr>\n",
              "      <th>4</th>\n",
              "      <td>img/paul-cezanne_the-oilmill-1871.jpg</td>\n",
              "      <td>The village looks very rudimentary with it's s...</td>\n",
              "    </tr>\n",
              "    <tr>\n",
              "      <th>5</th>\n",
              "      <td>img/n.c.-wyeth_merlin-taking-away-the-infant-a...</td>\n",
              "      <td>It looks like the baby is being taken for what...</td>\n",
              "    </tr>\n",
              "    <tr>\n",
              "      <th>6</th>\n",
              "      <td>img/orest-kiprensky_the-family-of-satyrs.jpg</td>\n",
              "      <td>The imps playfully dance and sing to the music.</td>\n",
              "    </tr>\n",
              "    <tr>\n",
              "      <th>7</th>\n",
              "      <td>img/sir-lawrence-alma-tadema_strigils-and-spon...</td>\n",
              "      <td>The women appear quite interested in one anoth...</td>\n",
              "    </tr>\n",
              "    <tr>\n",
              "      <th>8</th>\n",
              "      <td>img/orest-kiprensky_putto-with-a-globe.jpg</td>\n",
              "      <td>The little boy is trying to roll the globe aro...</td>\n",
              "    </tr>\n",
              "    <tr>\n",
              "      <th>9</th>\n",
              "      <td>img/sir-lawrence-alma-tadema_pleading-1876.jpg</td>\n",
              "      <td>The man laying down in this painting feels lik...</td>\n",
              "    </tr>\n",
              "  </tbody>\n",
              "</table>\n",
              "</div>\n",
              "    <div class=\"colab-df-buttons\">\n",
              "\n",
              "  <div class=\"colab-df-container\">\n",
              "    <button class=\"colab-df-convert\" onclick=\"convertToInteractive('df-3eaa47b4-89e0-48db-8129-320f15017064')\"\n",
              "            title=\"Convert this dataframe to an interactive table.\"\n",
              "            style=\"display:none;\">\n",
              "\n",
              "  <svg xmlns=\"http://www.w3.org/2000/svg\" height=\"24px\" viewBox=\"0 -960 960 960\">\n",
              "    <path d=\"M120-120v-720h720v720H120Zm60-500h600v-160H180v160Zm220 220h160v-160H400v160Zm0 220h160v-160H400v160ZM180-400h160v-160H180v160Zm440 0h160v-160H620v160ZM180-180h160v-160H180v160Zm440 0h160v-160H620v160Z\"/>\n",
              "  </svg>\n",
              "    </button>\n",
              "\n",
              "  <style>\n",
              "    .colab-df-container {\n",
              "      display:flex;\n",
              "      gap: 12px;\n",
              "    }\n",
              "\n",
              "    .colab-df-convert {\n",
              "      background-color: #E8F0FE;\n",
              "      border: none;\n",
              "      border-radius: 50%;\n",
              "      cursor: pointer;\n",
              "      display: none;\n",
              "      fill: #1967D2;\n",
              "      height: 32px;\n",
              "      padding: 0 0 0 0;\n",
              "      width: 32px;\n",
              "    }\n",
              "\n",
              "    .colab-df-convert:hover {\n",
              "      background-color: #E2EBFA;\n",
              "      box-shadow: 0px 1px 2px rgba(60, 64, 67, 0.3), 0px 1px 3px 1px rgba(60, 64, 67, 0.15);\n",
              "      fill: #174EA6;\n",
              "    }\n",
              "\n",
              "    .colab-df-buttons div {\n",
              "      margin-bottom: 4px;\n",
              "    }\n",
              "\n",
              "    [theme=dark] .colab-df-convert {\n",
              "      background-color: #3B4455;\n",
              "      fill: #D2E3FC;\n",
              "    }\n",
              "\n",
              "    [theme=dark] .colab-df-convert:hover {\n",
              "      background-color: #434B5C;\n",
              "      box-shadow: 0px 1px 3px 1px rgba(0, 0, 0, 0.15);\n",
              "      filter: drop-shadow(0px 1px 2px rgba(0, 0, 0, 0.3));\n",
              "      fill: #FFFFFF;\n",
              "    }\n",
              "  </style>\n",
              "\n",
              "    <script>\n",
              "      const buttonEl =\n",
              "        document.querySelector('#df-3eaa47b4-89e0-48db-8129-320f15017064 button.colab-df-convert');\n",
              "      buttonEl.style.display =\n",
              "        google.colab.kernel.accessAllowed ? 'block' : 'none';\n",
              "\n",
              "      async function convertToInteractive(key) {\n",
              "        const element = document.querySelector('#df-3eaa47b4-89e0-48db-8129-320f15017064');\n",
              "        const dataTable =\n",
              "          await google.colab.kernel.invokeFunction('convertToInteractive',\n",
              "                                                    [key], {});\n",
              "        if (!dataTable) return;\n",
              "\n",
              "        const docLinkHtml = 'Like what you see? Visit the ' +\n",
              "          '<a target=\"_blank\" href=https://colab.research.google.com/notebooks/data_table.ipynb>data table notebook</a>'\n",
              "          + ' to learn more about interactive tables.';\n",
              "        element.innerHTML = '';\n",
              "        dataTable['output_type'] = 'display_data';\n",
              "        await google.colab.output.renderOutput(dataTable, element);\n",
              "        const docLink = document.createElement('div');\n",
              "        docLink.innerHTML = docLinkHtml;\n",
              "        element.appendChild(docLink);\n",
              "      }\n",
              "    </script>\n",
              "  </div>\n",
              "\n",
              "\n",
              "<div id=\"df-d0ba167e-2875-42d9-a0b3-6be591cf1519\">\n",
              "  <button class=\"colab-df-quickchart\" onclick=\"quickchart('df-d0ba167e-2875-42d9-a0b3-6be591cf1519')\"\n",
              "            title=\"Suggest charts\"\n",
              "            style=\"display:none;\">\n",
              "\n",
              "<svg xmlns=\"http://www.w3.org/2000/svg\" height=\"24px\"viewBox=\"0 0 24 24\"\n",
              "     width=\"24px\">\n",
              "    <g>\n",
              "        <path d=\"M19 3H5c-1.1 0-2 .9-2 2v14c0 1.1.9 2 2 2h14c1.1 0 2-.9 2-2V5c0-1.1-.9-2-2-2zM9 17H7v-7h2v7zm4 0h-2V7h2v10zm4 0h-2v-4h2v4z\"/>\n",
              "    </g>\n",
              "</svg>\n",
              "  </button>\n",
              "\n",
              "<style>\n",
              "  .colab-df-quickchart {\n",
              "      --bg-color: #E8F0FE;\n",
              "      --fill-color: #1967D2;\n",
              "      --hover-bg-color: #E2EBFA;\n",
              "      --hover-fill-color: #174EA6;\n",
              "      --disabled-fill-color: #AAA;\n",
              "      --disabled-bg-color: #DDD;\n",
              "  }\n",
              "\n",
              "  [theme=dark] .colab-df-quickchart {\n",
              "      --bg-color: #3B4455;\n",
              "      --fill-color: #D2E3FC;\n",
              "      --hover-bg-color: #434B5C;\n",
              "      --hover-fill-color: #FFFFFF;\n",
              "      --disabled-bg-color: #3B4455;\n",
              "      --disabled-fill-color: #666;\n",
              "  }\n",
              "\n",
              "  .colab-df-quickchart {\n",
              "    background-color: var(--bg-color);\n",
              "    border: none;\n",
              "    border-radius: 50%;\n",
              "    cursor: pointer;\n",
              "    display: none;\n",
              "    fill: var(--fill-color);\n",
              "    height: 32px;\n",
              "    padding: 0;\n",
              "    width: 32px;\n",
              "  }\n",
              "\n",
              "  .colab-df-quickchart:hover {\n",
              "    background-color: var(--hover-bg-color);\n",
              "    box-shadow: 0 1px 2px rgba(60, 64, 67, 0.3), 0 1px 3px 1px rgba(60, 64, 67, 0.15);\n",
              "    fill: var(--button-hover-fill-color);\n",
              "  }\n",
              "\n",
              "  .colab-df-quickchart-complete:disabled,\n",
              "  .colab-df-quickchart-complete:disabled:hover {\n",
              "    background-color: var(--disabled-bg-color);\n",
              "    fill: var(--disabled-fill-color);\n",
              "    box-shadow: none;\n",
              "  }\n",
              "\n",
              "  .colab-df-spinner {\n",
              "    border: 2px solid var(--fill-color);\n",
              "    border-color: transparent;\n",
              "    border-bottom-color: var(--fill-color);\n",
              "    animation:\n",
              "      spin 1s steps(1) infinite;\n",
              "  }\n",
              "\n",
              "  @keyframes spin {\n",
              "    0% {\n",
              "      border-color: transparent;\n",
              "      border-bottom-color: var(--fill-color);\n",
              "      border-left-color: var(--fill-color);\n",
              "    }\n",
              "    20% {\n",
              "      border-color: transparent;\n",
              "      border-left-color: var(--fill-color);\n",
              "      border-top-color: var(--fill-color);\n",
              "    }\n",
              "    30% {\n",
              "      border-color: transparent;\n",
              "      border-left-color: var(--fill-color);\n",
              "      border-top-color: var(--fill-color);\n",
              "      border-right-color: var(--fill-color);\n",
              "    }\n",
              "    40% {\n",
              "      border-color: transparent;\n",
              "      border-right-color: var(--fill-color);\n",
              "      border-top-color: var(--fill-color);\n",
              "    }\n",
              "    60% {\n",
              "      border-color: transparent;\n",
              "      border-right-color: var(--fill-color);\n",
              "    }\n",
              "    80% {\n",
              "      border-color: transparent;\n",
              "      border-right-color: var(--fill-color);\n",
              "      border-bottom-color: var(--fill-color);\n",
              "    }\n",
              "    90% {\n",
              "      border-color: transparent;\n",
              "      border-bottom-color: var(--fill-color);\n",
              "    }\n",
              "  }\n",
              "</style>\n",
              "\n",
              "  <script>\n",
              "    async function quickchart(key) {\n",
              "      const quickchartButtonEl =\n",
              "        document.querySelector('#' + key + ' button');\n",
              "      quickchartButtonEl.disabled = true;  // To prevent multiple clicks.\n",
              "      quickchartButtonEl.classList.add('colab-df-spinner');\n",
              "      try {\n",
              "        const charts = await google.colab.kernel.invokeFunction(\n",
              "            'suggestCharts', [key], {});\n",
              "      } catch (error) {\n",
              "        console.error('Error during call to suggestCharts:', error);\n",
              "      }\n",
              "      quickchartButtonEl.classList.remove('colab-df-spinner');\n",
              "      quickchartButtonEl.classList.add('colab-df-quickchart-complete');\n",
              "    }\n",
              "    (() => {\n",
              "      let quickchartButtonEl =\n",
              "        document.querySelector('#df-d0ba167e-2875-42d9-a0b3-6be591cf1519 button');\n",
              "      quickchartButtonEl.style.display =\n",
              "        google.colab.kernel.accessAllowed ? 'block' : 'none';\n",
              "    })();\n",
              "  </script>\n",
              "</div>\n",
              "\n",
              "    </div>\n",
              "  </div>\n"
            ],
            "application/vnd.google.colaboratory.intrinsic+json": {
              "type": "dataframe",
              "variable_name": "images",
              "summary": "{\n  \"name\": \"images\",\n  \"rows\": 39069,\n  \"fields\": [\n    {\n      \"column\": \"painting\",\n      \"properties\": {\n        \"dtype\": \"category\",\n        \"num_unique_values\": 6901,\n        \"samples\": [\n          \"img/gustave-dore_ancient-mariner.jpg\",\n          \"img/william-turner_carisbrook-castle-isle-of-wight.jpg\",\n          \"img/ivan-aivazovsky_the-bay-of-naples-at-night-1895.jpg\"\n        ],\n        \"semantic_type\": \"\",\n        \"description\": \"\"\n      }\n    },\n    {\n      \"column\": \"utterance\",\n      \"properties\": {\n        \"dtype\": \"string\",\n        \"num_unique_values\": 39057,\n        \"samples\": [\n          \"The men in the scene are thin and frail, as if starved to death.\",\n          \"Although I like the texture, I do not like still lifes and the colors are not apealling.\",\n          \"she is attempting to lure us into a trap\"\n        ],\n        \"semantic_type\": \"\",\n        \"description\": \"\"\n      }\n    }\n  ]\n}"
            }
          },
          "metadata": {},
          "execution_count": 5
        }
      ]
    },
    {
      "cell_type": "markdown",
      "metadata": {
        "id": "_yki4_ZBtxWK"
      },
      "source": [
        "- Download images:"
      ]
    },
    {
      "cell_type": "code",
      "execution_count": 6,
      "metadata": {
        "colab": {
          "base_uri": "https://localhost:8080/"
        },
        "id": "YCqCJEgAtxWM",
        "outputId": "dceb2dd5-a737-4fae-e7c5-54d043f4599d"
      },
      "outputs": [
        {
          "output_type": "execute_result",
          "data": {
            "text/plain": [
              "39069"
            ]
          },
          "metadata": {},
          "execution_count": 6
        }
      ],
      "source": [
        "# Convertir df_subset en un arreglo NumPy sin nombres de columnas\n",
        "images = images.values\n",
        "len(images)"
      ]
    },
    {
      "cell_type": "markdown",
      "metadata": {
        "id": "Mn1ZGeiTtxWM"
      },
      "source": [
        "- Dataset split"
      ]
    },
    {
      "cell_type": "code",
      "execution_count": 7,
      "metadata": {
        "colab": {
          "base_uri": "https://localhost:8080/"
        },
        "id": "nmsQFrittxWM",
        "outputId": "1190aa60-8eed-45fc-bda3-e8e91e861766"
      },
      "outputs": [
        {
          "output_type": "execute_result",
          "data": {
            "text/plain": [
              "(37116, 1953)"
            ]
          },
          "metadata": {},
          "execution_count": 7
        }
      ],
      "source": [
        "random.Random(77).shuffle(images)\n",
        "\n",
        "num_val_samples = int(0.05 * len(images))\n",
        "train_images = images[num_val_samples:]\n",
        "val_images= images[:num_val_samples]\n",
        "len(train_images), len(val_images)"
      ]
    },
    {
      "cell_type": "code",
      "execution_count": 8,
      "metadata": {
        "colab": {
          "base_uri": "https://localhost:8080/"
        },
        "id": "CFbtA_8ZtxWM",
        "outputId": "b07882c0-eb7f-41bd-ce33-32d6469fafe9"
      },
      "outputs": [
        {
          "output_type": "execute_result",
          "data": {
            "text/plain": [
              "(36732, 1953)"
            ]
          },
          "metadata": {},
          "execution_count": 8
        }
      ],
      "source": [
        "def generate_tuples(paths):\n",
        "    tuples = []\n",
        "    for image_path, text in paths:\n",
        "        if os.path.exists(image_path):  # Verificar si la imagen existe en la ruta\n",
        "            tuples.append((image_path, text.strip()))\n",
        "    return tuples\n",
        "\n",
        "train_tuples = generate_tuples(train_images)\n",
        "val_tuples = generate_tuples(val_images)\n",
        "\n",
        "len(train_tuples), len(val_tuples)"
      ]
    },
    {
      "cell_type": "code",
      "execution_count": 9,
      "metadata": {
        "colab": {
          "base_uri": "https://localhost:8080/"
        },
        "id": "egmeogdltxWM",
        "outputId": "ce5c032e-d27f-4736-a812-996cb1c61dbf"
      },
      "outputs": [
        {
          "output_type": "stream",
          "name": "stdout",
          "text": [
            "('img/gustave-dore_samson-carries-away-the-gates-of-gaza.jpg', 'The dark painting is far from my favorite, but the animal by the ocean is still a beautiful scene.')\n",
            "('img/gustave-dore_the-inferno-canto-12-2.jpg', 'The black and grey colors combined with the violent figures')\n"
          ]
        }
      ],
      "source": [
        "for tuple in train_tuples[:2]:\n",
        "    print(tuple)"
      ]
    },
    {
      "cell_type": "markdown",
      "metadata": {
        "id": "hn6PX192txWN"
      },
      "source": [
        "## 2.- Pipeline"
      ]
    },
    {
      "cell_type": "markdown",
      "metadata": {
        "id": "_Thd9aPLtxWN"
      },
      "source": [
        "- Create vocabulary and tokenizer."
      ]
    },
    {
      "cell_type": "code",
      "execution_count": 10,
      "metadata": {
        "id": "0viwLWSUpGrk"
      },
      "outputs": [],
      "source": [
        "tokenizer = get_tokenizer('basic_english')"
      ]
    },
    {
      "cell_type": "code",
      "execution_count": 11,
      "metadata": {
        "id": "qpTS_ktRo_xd"
      },
      "outputs": [],
      "source": [
        "def build_vocab(text, tokenizer):\n",
        "    counter = Counter()\n",
        "    for _, string_ in text:\n",
        "        counter.update(tokenizer(string_))\n",
        "    return Vocab(counter, specials=['<unk>', '<pad>', '<bos>', '<eos>'])\n",
        "\n",
        "\n",
        "vocab = build_vocab(train_tuples, tokenizer)\n",
        "vocab.set_default_index(0) # fix <ukn>"
      ]
    },
    {
      "cell_type": "code",
      "execution_count": 12,
      "metadata": {
        "colab": {
          "base_uri": "https://localhost:8080/"
        },
        "id": "RlV0maHzt88t",
        "outputId": "3b6c0fb9-98f8-4554-addf-75088a06e454"
      },
      "outputs": [
        {
          "output_type": "execute_result",
          "data": {
            "text/plain": [
              "12293"
            ]
          },
          "metadata": {},
          "execution_count": 12
        }
      ],
      "source": [
        "vocab_size = len(vocab)\n",
        "vocab_size"
      ]
    },
    {
      "cell_type": "code",
      "execution_count": 13,
      "metadata": {
        "colab": {
          "base_uri": "https://localhost:8080/"
        },
        "id": "JQqHIlc-txWP",
        "outputId": "34ce8e32-21af-434c-986b-61fcc5602aff"
      },
      "outputs": [
        {
          "output_type": "execute_result",
          "data": {
            "text/plain": [
              "(1, 2, 3)"
            ]
          },
          "metadata": {},
          "execution_count": 13
        }
      ],
      "source": [
        "image_size = 128\n",
        "batch_size = 64\n",
        "maxlen = 36\n",
        "\n",
        "PAD_IDX = vocab['<pad>']\n",
        "BOS_IDX = vocab['<bos>']\n",
        "EOS_IDX = vocab['<eos>']\n",
        "PAD_IDX, BOS_IDX, EOS_IDX"
      ]
    },
    {
      "cell_type": "markdown",
      "source": [
        "* Retrieve a random unique desc for img"
      ],
      "metadata": {
        "id": "9fHeEF9opYt1"
      }
    },
    {
      "cell_type": "code",
      "source": [
        "#Create dictionaries to retrieve unique random description for each image\n",
        "train_dict = {}\n",
        "val_dict = {}\n",
        "\n",
        "for path, desc in train_tuples:\n",
        "    if path not in train_dict:\n",
        "        train_dict[path] = []\n",
        "    train_dict[path].append(desc)\n",
        "\n",
        "for path, desc in val_tuples:\n",
        "    if path not in val_dict:\n",
        "        val_dict[path] = []\n",
        "    val_dict[path].append(desc)"
      ],
      "metadata": {
        "id": "1KGibE3ope_2"
      },
      "execution_count": 14,
      "outputs": []
    },
    {
      "cell_type": "code",
      "source": [
        "def retrieve_random_unique_desc():\n",
        "  random_train = []\n",
        "  random_val = []\n",
        "  for path in train_dict:\n",
        "      random_train.append((path, random.choice(train_dict[path])))\n",
        "\n",
        "  for path in val_dict:\n",
        "      random_val.append((path, random.choice(val_dict[path])))\n",
        "\n",
        "  return random_train, random_val"
      ],
      "metadata": {
        "id": "4TrIibcIrSJ3"
      },
      "execution_count": 15,
      "outputs": []
    },
    {
      "cell_type": "code",
      "source": [
        "random_train, random_val = retrieve_random_unique_desc()\n",
        "\n",
        "len(train_tuples), len(random_train), len(val_tuples), len(random_val)"
      ],
      "metadata": {
        "colab": {
          "base_uri": "https://localhost:8080/"
        },
        "id": "jXT0urazsjcX",
        "outputId": "0bc1d054-d568-474c-d596-1a0037e43a6b"
      },
      "execution_count": 16,
      "outputs": [
        {
          "output_type": "execute_result",
          "data": {
            "text/plain": [
              "(36732, 6237, 1953, 948)"
            ]
          },
          "metadata": {},
          "execution_count": 16
        }
      ]
    },
    {
      "cell_type": "markdown",
      "metadata": {
        "id": "HCJfc5S4txWP"
      },
      "source": [
        "- Reduce dataset size for simplicity"
      ]
    },
    {
      "cell_type": "code",
      "execution_count": 17,
      "metadata": {
        "colab": {
          "base_uri": "https://localhost:8080/"
        },
        "id": "_vU0G5D8txWP",
        "outputId": "a83a17d8-4f7d-44e8-e1f0-5f45f5030b51"
      },
      "outputs": [
        {
          "output_type": "execute_result",
          "data": {
            "text/plain": [
              "(5999, 930)"
            ]
          },
          "metadata": {},
          "execution_count": 17
        }
      ],
      "source": [
        "def data_process(text):\n",
        "    data = []\n",
        "    for x, y in text:\n",
        "        tensor_ = torch.tensor(\n",
        "            [vocab[token] for token in tokenizer(y)],\n",
        "            dtype=torch.long\n",
        "        )\n",
        "\n",
        "        if tensor_.shape[0] < maxlen:\n",
        "            data.append((x, tensor_))\n",
        "\n",
        "    return data\n",
        "\n",
        "random_train, random_val = retrieve_random_unique_desc()\n",
        "\n",
        "train_data = data_process(random_train)\n",
        "val_data = data_process(random_val)\n",
        "len(train_data), len(val_data)"
      ]
    },
    {
      "cell_type": "code",
      "execution_count": 18,
      "metadata": {
        "id": "7Hsq2AkdtxWQ"
      },
      "outputs": [],
      "source": [
        "transform = transforms.Compose([\n",
        "            transforms.Resize((image_size, image_size)),\n",
        "            transforms.RandomHorizontalFlip(),\n",
        "            transforms.ToTensor()\n",
        "])\n",
        "\n",
        "def generate_batch(data_batch):\n",
        "    x, y = [], []\n",
        "    for (x_item, y_item) in data_batch:\n",
        "        image = Image.open(x_item).convert('RGB')\n",
        "        image = transform(image)\n",
        "        x.append(image)\n",
        "        y.append(\n",
        "            torch.cat([\n",
        "                torch.tensor([BOS_IDX]),\n",
        "                y_item,\n",
        "                torch.tensor([EOS_IDX])\n",
        "            ], dim=0)\n",
        "        )\n",
        "\n",
        "    x = torch.stack(x)\n",
        "    y = pad_sequence(y, batch_first=True, padding_value=PAD_IDX)\n",
        "    return x, y[:, :-1], y[:, 1:]\n",
        "\n",
        "train_loader = DataLoader(train_data, batch_size=batch_size,\n",
        "                    shuffle=True, collate_fn=generate_batch,\n",
        "                    num_workers=4, pin_memory=True)\n",
        "\n",
        "val_loader = DataLoader(val_data, batch_size=batch_size,\n",
        "                    shuffle=False, collate_fn=generate_batch,\n",
        "                    num_workers=4, pin_memory=True)"
      ]
    },
    {
      "cell_type": "code",
      "source": [
        "enc_batch, dec_batch, target_batch = next(iter(val_loader))\n",
        "enc_batch.shape, dec_batch.shape, target_batch.shape"
      ],
      "metadata": {
        "colab": {
          "base_uri": "https://localhost:8080/"
        },
        "id": "Vx5ZeePzttC3",
        "outputId": "9ee7109e-716f-41fe-b112-ec80e9589637"
      },
      "execution_count": 19,
      "outputs": [
        {
          "output_type": "stream",
          "name": "stderr",
          "text": [
            "/usr/lib/python3.10/multiprocessing/popen_fork.py:66: RuntimeWarning: os.fork() was called. os.fork() is incompatible with multithreaded code, and JAX is multithreaded, so this will likely lead to a deadlock.\n",
            "  self.pid = os.fork()\n"
          ]
        },
        {
          "output_type": "execute_result",
          "data": {
            "text/plain": [
              "(torch.Size([64, 3, 128, 128]), torch.Size([64, 33]), torch.Size([64, 33]))"
            ]
          },
          "metadata": {},
          "execution_count": 19
        }
      ]
    },
    {
      "cell_type": "code",
      "execution_count": 20,
      "metadata": {
        "colab": {
          "base_uri": "https://localhost:8080/",
          "height": 209
        },
        "id": "341DetCWtxWQ",
        "outputId": "468ec29d-98cf-4165-a99b-9ac5a1e200d5"
      },
      "outputs": [
        {
          "output_type": "display_data",
          "data": {
            "text/plain": [
              "<Figure size 200x200 with 1 Axes>"
            ],
            "image/png": "[encoded data removed]"
          },
          "metadata": {}
        },
        {
          "output_type": "stream",
          "name": "stdout",
          "text": [
            "Ground truth: the little boy is trying to roll the globe around like a toy                    \n"
          ]
        }
      ],
      "source": [
        "def plot_img(img, target):\n",
        "    image_array = img.permute(1, 2, 0).numpy()\n",
        "    image_text = \" \".join(\n",
        "        [vocab.get_itos()[_] for _ in target]\n",
        "    ).replace(\"<pad>\", \"\").replace(\"<eos>\", \"\")\n",
        "\n",
        "    fig = plt.figure(figsize=(2, 2))\n",
        "\n",
        "    # Plot the image\n",
        "    plt.imshow(image_array)\n",
        "    #plt.title(image_text)\n",
        "    plt.axis('off')  # Optional: Turn off axes\n",
        "    plt.show()\n",
        "    print(f'Ground truth: {image_text}')\n",
        "\n",
        "idx = 10\n",
        "plot_img(enc_batch[idx], target_batch[idx])"
      ]
    },
    {
      "cell_type": "markdown",
      "metadata": {
        "id": "PZ7f4DHJreIj"
      },
      "source": [
        "## 3.- Model"
      ]
    },
    {
      "cell_type": "markdown",
      "metadata": {
        "tags": [],
        "id": "u-X5rKvttxWQ"
      },
      "source": [
        "### Feature extraction block\n",
        "- Define a convolutional network for image feature extraction."
      ]
    },
    {
      "cell_type": "code",
      "execution_count": 21,
      "metadata": {
        "id": "XC-prvh8txWQ"
      },
      "outputs": [],
      "source": [
        "class DownBlockComp(nn.Module):\n",
        "    def __init__(self, in_planes, out_planes):\n",
        "        super(DownBlockComp, self).__init__()\n",
        "\n",
        "        self.main = nn.Sequential(\n",
        "            nn.Conv2d(in_planes, out_planes, 3, 2, 1, bias=False),\n",
        "            nn.BatchNorm2d(out_planes), nn.LeakyReLU(0.2, inplace=True),\n",
        "        )\n",
        "\n",
        "        self.direct = nn.Sequential(\n",
        "            nn.AvgPool2d(2, 2),\n",
        "            nn.Conv2d(in_planes, out_planes, 1, 1, 0, bias=False),\n",
        "            nn.BatchNorm2d(out_planes), nn.LeakyReLU(0.2, inplace=True))\n",
        "\n",
        "    def forward(self, feat):\n",
        "        return (self.main(feat) + self.direct(feat)) / 2"
      ]
    },
    {
      "cell_type": "code",
      "execution_count": 22,
      "metadata": {
        "scrolled": true,
        "colab": {
          "base_uri": "https://localhost:8080/"
        },
        "id": "4411NXVWtxWR",
        "outputId": "afb35573-2214-40d4-b77c-aae7c599698c"
      },
      "outputs": [
        {
          "output_type": "execute_result",
          "data": {
            "text/plain": [
              "torch.Size([64, 36, 256])"
            ]
          },
          "metadata": {},
          "execution_count": 22
        }
      ],
      "source": [
        "class CNN(nn.Module):\n",
        "    def __init__(self, filters=128, noise_dim=64):\n",
        "        super(CNN, self).__init__()\n",
        "        self.filters = filters\n",
        "        self.down_block = nn.Sequential(\n",
        "            nn.Conv2d(3, filters // 8, 3, 1, 1, bias=False),\n",
        "            nn.BatchNorm2d(filters // 8), nn.LeakyReLU(0.2, inplace=True),\n",
        "            DownBlockComp(filters // 8, filters // 4),\n",
        "            DownBlockComp(filters // 4, filters // 2),\n",
        "            DownBlockComp(filters // 2, filters),\n",
        "            DownBlockComp(filters, filters),\n",
        "            nn.Conv2d(filters, filters, 3, 1, 0, bias=False),\n",
        "            nn.LeakyReLU(0.2, inplace=True),\n",
        "        )\n",
        "\n",
        "    def forward(self, x):\n",
        "        B = x.shape[0]\n",
        "        x = self.down_block(x)\n",
        "        x = torch.permute(x, [0, 2, 3, 1]).view(B, -1, self.filters)\n",
        "        return x\n",
        "\n",
        "\n",
        "discriminator = CNN(256)\n",
        "out_disc = discriminator(enc_batch)\n",
        "out_disc.shape"
      ]
    },
    {
      "cell_type": "markdown",
      "metadata": {
        "id": "R_X9TWMZtxWR"
      },
      "source": [
        "### Transformer block"
      ]
    },
    {
      "cell_type": "code",
      "execution_count": 23,
      "metadata": {
        "colab": {
          "base_uri": "https://localhost:8080/"
        },
        "id": "dT6uffV0rdh_",
        "outputId": "be559dd4-7c04-4102-9c69-4ec6f83a9d6a",
        "scrolled": true,
        "tags": []
      },
      "outputs": [
        {
          "output_type": "execute_result",
          "data": {
            "text/plain": [
              "(torch.Size([1, 8, 32]), torch.Size([1, 8, 32]))"
            ]
          },
          "metadata": {},
          "execution_count": 23
        }
      ],
      "source": [
        "class Attention(nn.Module):\n",
        "    def __init__(self, dim, maxlen, n_heads=4, bias=True):\n",
        "        super().__init__()\n",
        "        self.n_heads = n_heads\n",
        "        self.scale = (dim // n_heads) ** -0.5\n",
        "        self.wq = nn.Linear(dim, dim, bias = bias)\n",
        "        self.wk = nn.Linear(dim, dim, bias = bias)\n",
        "        self.wv = nn.Linear(dim, dim, bias = bias)\n",
        "\n",
        "        self.wo = nn.Linear(dim, dim, bias = bias)\n",
        "        self.register_buffer(\"bias\", torch.tril(torch.ones(maxlen, maxlen)).view(1, 1, maxlen, maxlen))\n",
        "\n",
        "    def forward(self, x, context=None):\n",
        "        B, L, D = x.shape\n",
        "        out_L = L\n",
        "        q = self.wq(x)\n",
        "        q = torch.reshape(q, [B, L, self.n_heads, -1])\n",
        "        q = torch.permute(q, [0, 2, 1, 3])\n",
        "\n",
        "        if context == None:\n",
        "            k = self.wk(x)\n",
        "            v = self.wv(x)\n",
        "        else:\n",
        "            k = self.wk(context)\n",
        "            v = self.wv(context)\n",
        "            B, L, D = k.shape\n",
        "\n",
        "        k = torch.reshape(k, [B, L, self.n_heads, -1])\n",
        "        k = torch.permute(k, [0, 2, 3, 1])\n",
        "        v = torch.reshape(v, [B, L, self.n_heads, -1])\n",
        "        v = torch.permute(v, [0, 2, 1, 3])\n",
        "\n",
        "        qk = torch.matmul(q, k) * self.scale\n",
        "        if context == None:\n",
        "            qk = qk.masked_fill(self.bias[:,:,:L,:L] == 0, float('-inf'))\n",
        "\n",
        "        attn = torch.softmax(qk, dim=-1)\n",
        "\n",
        "        v_attn = torch.matmul(attn, v)\n",
        "        v_attn = torch.permute(v_attn, [0, 2, 1, 3])\n",
        "        v_attn = torch.reshape(v_attn, [B, out_L, D])\n",
        "\n",
        "        x = self.wo(v_attn)\n",
        "        return x\n",
        "\n",
        "\n",
        "q_test = torch.ones([1, 8, 32])\n",
        "k_test = torch.ones([1, 64, 32])\n",
        "test_layer = Attention(32, maxlen, n_heads=4)\n",
        "test_layer(q_test).shape, test_layer(q_test, k_test).shape"
      ]
    },
    {
      "cell_type": "markdown",
      "metadata": {
        "id": "myY4bhNztxWR"
      },
      "source": [
        "- Define Transformer:"
      ]
    },
    {
      "cell_type": "code",
      "execution_count": 24,
      "metadata": {
        "colab": {
          "base_uri": "https://localhost:8080/"
        },
        "id": "rqDwbCJCAO0A",
        "outputId": "52654d1c-2446-464c-ecbe-e059566e5359"
      },
      "outputs": [
        {
          "output_type": "execute_result",
          "data": {
            "text/plain": [
              "torch.Size([1, 36, 32])"
            ]
          },
          "metadata": {},
          "execution_count": 24
        }
      ],
      "source": [
        "class DecoderBlock(nn.Module):\n",
        "    def __init__(self, dim, maxlen, heads=4, mlp_dim=512, rate=0.0):\n",
        "        super().__init__()\n",
        "        self.ln_1 = nn.LayerNorm(dim)\n",
        "        self.attn = Attention(dim, maxlen)\n",
        "        self.cross_attn = Attention(dim, maxlen)\n",
        "        self.ln_2 = nn.LayerNorm(dim)\n",
        "        self.ln_3 = nn.LayerNorm(dim)\n",
        "        self.mlp = nn.Sequential(\n",
        "            nn.Linear(dim, mlp_dim),\n",
        "            nn.GELU(),\n",
        "            nn.Dropout(rate),\n",
        "            nn.Linear(mlp_dim, dim),\n",
        "            nn.Dropout(rate),\n",
        "        )\n",
        "\n",
        "    def forward(self, x):\n",
        "        inputs, context = x\n",
        "        x = self.attn(inputs)\n",
        "        skip1 = self.ln_1(x + inputs)\n",
        "        x = self.cross_attn(skip1, context)\n",
        "        skip2 = self.ln_2(x + skip1)\n",
        "        return self.ln_3(self.mlp(skip2) + skip2)\n",
        "\n",
        "\n",
        "test_layer = DecoderBlock(32, maxlen)\n",
        "x_test = torch.ones([1, maxlen, 32])\n",
        "test_layer([x_test, x_test]).shape"
      ]
    },
    {
      "cell_type": "markdown",
      "metadata": {
        "id": "xSGf8AgRtxWS"
      },
      "source": [
        "- Define Transformer"
      ]
    },
    {
      "cell_type": "code",
      "execution_count": 25,
      "metadata": {
        "colab": {
          "base_uri": "https://localhost:8080/"
        },
        "id": "N48XXPxatxWS",
        "outputId": "758e4fb0-9c50-4dc3-94de-0005d0898c92"
      },
      "outputs": [
        {
          "output_type": "execute_result",
          "data": {
            "text/plain": [
              "(torch.Size([64, 3, 128, 128]), torch.Size([64, 33]), torch.Size([64, 33]))"
            ]
          },
          "metadata": {},
          "execution_count": 25
        }
      ],
      "source": [
        "enc_batch.shape, dec_batch.shape, target_batch.shape"
      ]
    },
    {
      "cell_type": "markdown",
      "metadata": {
        "id": "SjVoHg5VtxWT"
      },
      "source": [
        "### Transformer"
      ]
    },
    {
      "cell_type": "code",
      "execution_count": 26,
      "metadata": {
        "colab": {
          "base_uri": "https://localhost:8080/"
        },
        "id": "MNOuhWgj_o8z",
        "outputId": "712ad604-1dcb-46b1-b5e7-c82a3f12187f",
        "scrolled": true,
        "tags": []
      },
      "outputs": [
        {
          "output_type": "execute_result",
          "data": {
            "text/plain": [
              "(torch.Size([64, 33, 12293]), torch.Size([64, 33]))"
            ]
          },
          "metadata": {},
          "execution_count": 26
        }
      ],
      "source": [
        "class Transformer(nn.Module):\n",
        "    def __init__(self, dim, vocab_size, maxlen, depth=3,\n",
        "                 mlp_dim=512, rate=0.2):\n",
        "        super().__init__()\n",
        "        self.depth = depth\n",
        "        self.embedding = nn.Embedding(vocab_size, dim)\n",
        "        self.pos_embedding = nn.Parameter(\n",
        "            torch.randn(1, maxlen, dim))\n",
        "\n",
        "        self.decoder = nn.ModuleList()\n",
        "        for i in range(self.depth):\n",
        "            self.decoder.append(DecoderBlock(dim, maxlen))\n",
        "\n",
        "        self.head = nn.Linear(dim, vocab_size, bias=False)\n",
        "        self.cnn = CNN(dim)\n",
        "\n",
        "    def forward(self, x, context):\n",
        "        B, L = x.shape\n",
        "        x = self.embedding(x)\n",
        "        x += self.pos_embedding[:, :L]\n",
        "\n",
        "        context = self.cnn(context)\n",
        "        for layer in self.decoder:\n",
        "            x = layer([x, context])\n",
        "        x = self.head(x)\n",
        "        return x\n",
        "\n",
        "\n",
        "model_dim = 64\n",
        "mlp_dim = 128\n",
        "depth = 3\n",
        "\n",
        "transformer = Transformer(dim=model_dim, vocab_size=vocab_size,\n",
        "          maxlen=maxlen, depth=depth, mlp_dim=mlp_dim)\n",
        "output = transformer(dec_batch, enc_batch)\n",
        "output.shape, target_batch.shape"
      ]
    },
    {
      "cell_type": "markdown",
      "metadata": {
        "id": "MsJbLyZ6b_57"
      },
      "source": [
        "## 4.- Training"
      ]
    },
    {
      "cell_type": "code",
      "execution_count": 27,
      "metadata": {
        "colab": {
          "base_uri": "https://localhost:8080/"
        },
        "id": "EvsuJHMBlm9y",
        "outputId": "65a3f86e-1e17-4259-9dd6-705a97a5b2e2"
      },
      "outputs": [
        {
          "output_type": "stream",
          "name": "stdout",
          "text": [
            "cuda:0\n"
          ]
        },
        {
          "output_type": "execute_result",
          "data": {
            "text/plain": [
              "Transformer(\n",
              "  (embedding): Embedding(12293, 64)\n",
              "  (decoder): ModuleList(\n",
              "    (0-2): 3 x DecoderBlock(\n",
              "      (ln_1): LayerNorm((64,), eps=1e-05, elementwise_affine=True)\n",
              "      (attn): Attention(\n",
              "        (wq): Linear(in_features=64, out_features=64, bias=True)\n",
              "        (wk): Linear(in_features=64, out_features=64, bias=True)\n",
              "        (wv): Linear(in_features=64, out_features=64, bias=True)\n",
              "        (wo): Linear(in_features=64, out_features=64, bias=True)\n",
              "      )\n",
              "      (cross_attn): Attention(\n",
              "        (wq): Linear(in_features=64, out_features=64, bias=True)\n",
              "        (wk): Linear(in_features=64, out_features=64, bias=True)\n",
              "        (wv): Linear(in_features=64, out_features=64, bias=True)\n",
              "        (wo): Linear(in_features=64, out_features=64, bias=True)\n",
              "      )\n",
              "      (ln_2): LayerNorm((64,), eps=1e-05, elementwise_affine=True)\n",
              "      (ln_3): LayerNorm((64,), eps=1e-05, elementwise_affine=True)\n",
              "      (mlp): Sequential(\n",
              "        (0): Linear(in_features=64, out_features=512, bias=True)\n",
              "        (1): GELU(approximate='none')\n",
              "        (2): Dropout(p=0.0, inplace=False)\n",
              "        (3): Linear(in_features=512, out_features=64, bias=True)\n",
              "        (4): Dropout(p=0.0, inplace=False)\n",
              "      )\n",
              "    )\n",
              "  )\n",
              "  (head): Linear(in_features=64, out_features=12293, bias=False)\n",
              "  (cnn): CNN(\n",
              "    (down_block): Sequential(\n",
              "      (0): Conv2d(3, 8, kernel_size=(3, 3), stride=(1, 1), padding=(1, 1), bias=False)\n",
              "      (1): BatchNorm2d(8, eps=1e-05, momentum=0.1, affine=True, track_running_stats=True)\n",
              "      (2): LeakyReLU(negative_slope=0.2, inplace=True)\n",
              "      (3): DownBlockComp(\n",
              "        (main): Sequential(\n",
              "          (0): Conv2d(8, 16, kernel_size=(3, 3), stride=(2, 2), padding=(1, 1), bias=False)\n",
              "          (1): BatchNorm2d(16, eps=1e-05, momentum=0.1, affine=True, track_running_stats=True)\n",
              "          (2): LeakyReLU(negative_slope=0.2, inplace=True)\n",
              "        )\n",
              "        (direct): Sequential(\n",
              "          (0): AvgPool2d(kernel_size=2, stride=2, padding=0)\n",
              "          (1): Conv2d(8, 16, kernel_size=(1, 1), stride=(1, 1), bias=False)\n",
              "          (2): BatchNorm2d(16, eps=1e-05, momentum=0.1, affine=True, track_running_stats=True)\n",
              "          (3): LeakyReLU(negative_slope=0.2, inplace=True)\n",
              "        )\n",
              "      )\n",
              "      (4): DownBlockComp(\n",
              "        (main): Sequential(\n",
              "          (0): Conv2d(16, 32, kernel_size=(3, 3), stride=(2, 2), padding=(1, 1), bias=False)\n",
              "          (1): BatchNorm2d(32, eps=1e-05, momentum=0.1, affine=True, track_running_stats=True)\n",
              "          (2): LeakyReLU(negative_slope=0.2, inplace=True)\n",
              "        )\n",
              "        (direct): Sequential(\n",
              "          (0): AvgPool2d(kernel_size=2, stride=2, padding=0)\n",
              "          (1): Conv2d(16, 32, kernel_size=(1, 1), stride=(1, 1), bias=False)\n",
              "          (2): BatchNorm2d(32, eps=1e-05, momentum=0.1, affine=True, track_running_stats=True)\n",
              "          (3): LeakyReLU(negative_slope=0.2, inplace=True)\n",
              "        )\n",
              "      )\n",
              "      (5): DownBlockComp(\n",
              "        (main): Sequential(\n",
              "          (0): Conv2d(32, 64, kernel_size=(3, 3), stride=(2, 2), padding=(1, 1), bias=False)\n",
              "          (1): BatchNorm2d(64, eps=1e-05, momentum=0.1, affine=True, track_running_stats=True)\n",
              "          (2): LeakyReLU(negative_slope=0.2, inplace=True)\n",
              "        )\n",
              "        (direct): Sequential(\n",
              "          (0): AvgPool2d(kernel_size=2, stride=2, padding=0)\n",
              "          (1): Conv2d(32, 64, kernel_size=(1, 1), stride=(1, 1), bias=False)\n",
              "          (2): BatchNorm2d(64, eps=1e-05, momentum=0.1, affine=True, track_running_stats=True)\n",
              "          (3): LeakyReLU(negative_slope=0.2, inplace=True)\n",
              "        )\n",
              "      )\n",
              "      (6): DownBlockComp(\n",
              "        (main): Sequential(\n",
              "          (0): Conv2d(64, 64, kernel_size=(3, 3), stride=(2, 2), padding=(1, 1), bias=False)\n",
              "          (1): BatchNorm2d(64, eps=1e-05, momentum=0.1, affine=True, track_running_stats=True)\n",
              "          (2): LeakyReLU(negative_slope=0.2, inplace=True)\n",
              "        )\n",
              "        (direct): Sequential(\n",
              "          (0): AvgPool2d(kernel_size=2, stride=2, padding=0)\n",
              "          (1): Conv2d(64, 64, kernel_size=(1, 1), stride=(1, 1), bias=False)\n",
              "          (2): BatchNorm2d(64, eps=1e-05, momentum=0.1, affine=True, track_running_stats=True)\n",
              "          (3): LeakyReLU(negative_slope=0.2, inplace=True)\n",
              "        )\n",
              "      )\n",
              "      (7): Conv2d(64, 64, kernel_size=(3, 3), stride=(1, 1), bias=False)\n",
              "      (8): LeakyReLU(negative_slope=0.2, inplace=True)\n",
              "    )\n",
              "  )\n",
              ")"
            ]
          },
          "metadata": {},
          "execution_count": 27
        }
      ],
      "source": [
        "device = torch.device('cuda:0' if torch.cuda.is_available() else 'cpu')\n",
        "print(device)\n",
        "\n",
        "transformer.to(device)"
      ]
    },
    {
      "cell_type": "code",
      "execution_count": 28,
      "metadata": {
        "id": "wl9MQCp9TLCh"
      },
      "outputs": [],
      "source": [
        "optimizer = optim.Adam(transformer.parameters(), lr=0.001)\n",
        "loss_fn = torch.nn.CrossEntropyLoss(ignore_index=PAD_IDX)"
      ]
    },
    {
      "cell_type": "code",
      "execution_count": 29,
      "metadata": {
        "id": "R5bmAldOcJn0"
      },
      "outputs": [],
      "source": [
        "def train(model, device, train_loader, optimizer, epoch):\n",
        "    start = time.time()\n",
        "    running_loss = 0.0\n",
        "    model.train()\n",
        "    for inp_enc, inp_dec, tar_dec in train_loader:\n",
        "        tar_dec = tar_dec.reshape(-1)\n",
        "        inp_enc = inp_enc.to(device)\n",
        "        inp_dec = inp_dec.to(device)\n",
        "        tar_dec = tar_dec.to(device)\n",
        "\n",
        "        # zero the parameter gradients\n",
        "        optimizer.zero_grad()\n",
        "\n",
        "        # forward + backward + optimize\n",
        "        outputs = model(inp_dec, inp_enc)\n",
        "        outputs = outputs.view(-1, outputs.size(-1))\n",
        "        loss = loss_fn(outputs, tar_dec)\n",
        "        loss.backward()\n",
        "        optimizer.step()\n",
        "\n",
        "        running_loss += loss.item()\n",
        "\n",
        "    print(f'\\nTime for epoch {epoch} is {time.time()-start:.4f} sec Train loss: {running_loss / len(train_loader):.4f}')"
      ]
    },
    {
      "cell_type": "code",
      "execution_count": 30,
      "metadata": {
        "colab": {
          "base_uri": "https://localhost:8080/"
        },
        "id": "c1NVXzmjtxWU",
        "outputId": "232f1c45-11bf-4342-c60a-7239e7211bdc"
      },
      "outputs": [
        {
          "output_type": "stream",
          "name": "stdout",
          "text": [
            "Generated text:  scorn gothic ruminates wearing attendant getaway navigate confession cursed necklace grimmer romanesque colosseum boarder dancers tiara affect mean-looking splatter mastered marine transparency lecture rages hardness loaded deliveryman absurd literal waves message panorama cute mournfully fascinating shipwrecks\n"
          ]
        }
      ],
      "source": [
        "def generate(model, image, device, maxlen):\n",
        "    with torch.no_grad():\n",
        "        image = image.unsqueeze(0).to(device)\n",
        "        model.eval()\n",
        "        idx = torch.tensor(BOS_IDX, dtype=torch.long)\n",
        "        idx = idx.reshape([1, -1])\n",
        "\n",
        "        for _ in range(maxlen):\n",
        "            idx = idx.to(device)\n",
        "            logits = model(idx, image)[:, -1, :]\n",
        "            probs = torch.softmax(logits, dim=-1)\n",
        "\n",
        "            _, idx_next = torch.topk(probs, k=1, dim=-1)\n",
        "            if vocab.get_itos()[idx_next] == '<eos>':\n",
        "                break\n",
        "            idx = torch.cat((idx, idx_next), dim=1)\n",
        "\n",
        "    txt = \" \".join(\n",
        "        [vocab.get_itos()[_] for _ in idx[0]]\n",
        "    )\n",
        "    print(f'Generated text: {txt.replace(\"<bos>\", \"\")}')\n",
        "\n",
        "generate(transformer, enc_batch[idx], device, maxlen)"
      ]
    },
    {
      "cell_type": "code",
      "source": [
        "def random_data_for_training():\n",
        "    random_train, random_val = retrieve_random_unique_desc()\n",
        "    train_data = data_process(random_train)\n",
        "    val_data = data_process(random_val)\n",
        "    train_loader = DataLoader(train_data, batch_size=batch_size,\n",
        "                    shuffle=True, collate_fn=generate_batch,\n",
        "                    num_workers=4, pin_memory=True)"
      ],
      "metadata": {
        "id": "g7cKomqdujwv"
      },
      "execution_count": 31,
      "outputs": []
    },
    {
      "cell_type": "code",
      "execution_count": 32,
      "metadata": {
        "colab": {
          "base_uri": "https://localhost:8080/"
        },
        "id": "gtR1RoSBkARg",
        "outputId": "ccb32baf-9161-4562-99cb-2746f8b4c5e2",
        "scrolled": true,
        "tags": []
      },
      "outputs": [
        {
          "output_type": "stream",
          "name": "stdout",
          "text": [
            "\n",
            "Time for epoch 0 is 9.6105 sec Train loss: 6.6058\n",
            "Generated text:  the man is a and the man .\n",
            "\n",
            "Time for epoch 1 is 8.4626 sec Train loss: 5.2205\n",
            "Generated text:  the man is very very very very very .\n",
            "\n",
            "Time for epoch 2 is 9.1359 sec Train loss: 4.8652\n",
            "Generated text:  the man is very very very very very very very very very .\n",
            "\n",
            "Time for epoch 3 is 9.5326 sec Train loss: 4.6299\n",
            "Generated text:  the man is quite lovely and the background is quite lovely .\n",
            "\n",
            "Time for epoch 4 is 9.1352 sec Train loss: 4.4445\n",
            "Generated text:  the man is very well and the man ' s face and the man ' s face and the man ' s face .\n",
            "\n",
            "Time for epoch 5 is 9.5470 sec Train loss: 4.2840\n",
            "Generated text:  the man looks like he is in a bit of a sense of a sense of a sense of a sense of a lot of a feeling .\n",
            "\n",
            "Time for epoch 6 is 8.7684 sec Train loss: 4.1371\n",
            "Generated text:  the man is quite lovely and the way he is very sad .\n",
            "\n",
            "Time for epoch 7 is 9.0044 sec Train loss: 3.9995\n",
            "Generated text:  the man looks like he is in his face .\n",
            "\n",
            "Time for epoch 8 is 9.0513 sec Train loss: 3.8613\n",
            "Generated text:  the woman ' s face is quite lovely and the woman ' s face .\n",
            "\n",
            "Time for epoch 9 is 8.7565 sec Train loss: 3.7263\n",
            "Generated text:  the man ' s face is quite lovely and the way he is in his face .\n",
            "\n",
            "Time for epoch 10 is 8.5361 sec Train loss: 3.5938\n",
            "Generated text:  the man looks like he is in his face and he is holding her .\n",
            "\n",
            "Time for epoch 11 is 9.4271 sec Train loss: 3.4582\n",
            "Generated text:  the man looks like a bit of his face is in deep sight .\n",
            "\n",
            "Time for epoch 12 is 8.9516 sec Train loss: 3.3213\n",
            "Generated text:  the man is wearing a bit of hope with his head look so he looks onward\n",
            "\n",
            "Time for epoch 13 is 8.9114 sec Train loss: 3.1815\n",
            "Generated text:  the man looks like he is trying to be in his life .\n",
            "\n",
            "Time for epoch 14 is 9.1388 sec Train loss: 3.0434\n",
            "Generated text:  the man looks like a university professor between good and i ' m not in his back .\n",
            "\n",
            "Time for epoch 15 is 8.9841 sec Train loss: 2.9041\n",
            "Generated text:  the man ' s face looks like he is about to be spared in his hands\n",
            "\n",
            "Time for epoch 16 is 8.7471 sec Train loss: 2.7636\n",
            "Generated text:  the man looks like he is trying to be in his hand\n",
            "\n",
            "Time for epoch 17 is 9.1592 sec Train loss: 2.6271\n",
            "Generated text:  the man is very serious and the portrait of a simple view of the side .\n",
            "\n",
            "Time for epoch 18 is 8.8394 sec Train loss: 2.4941\n",
            "Generated text:  the man looks like he is admiring the woman ' s face is holding her chest\n",
            "\n",
            "Time for epoch 19 is 8.6353 sec Train loss: 2.3585\n",
            "Generated text:  the man looks like he is trying to be in his hand\n",
            "\n",
            "Time for epoch 20 is 9.2332 sec Train loss: 2.2357\n",
            "Generated text:  the man looks like a drawing of his face and a portrait .\n",
            "\n",
            "Time for epoch 21 is 8.6920 sec Train loss: 2.1179\n",
            "Generated text:  the man ' s face looks like he is holding her flowers in the background .\n",
            "\n",
            "Time for epoch 22 is 8.8911 sec Train loss: 2.0013\n",
            "Generated text:  the man is wearing a stick to look at ease and i wonder what they ' t have food and see this .\n",
            "\n",
            "Time for epoch 23 is 9.0104 sec Train loss: 1.8961\n",
            "Generated text:  the man ' s eyes are sunken his hair is very well .\n",
            "\n",
            "Time for epoch 24 is 8.5742 sec Train loss: 1.7874\n",
            "Generated text:  the man is holding a stick to beat men\n",
            "\n",
            "Time for epoch 25 is 9.0908 sec Train loss: 1.6929\n",
            "Generated text:  the man ' s face looks smug and vibrant\n",
            "\n",
            "Time for epoch 26 is 9.4864 sec Train loss: 1.6050\n",
            "Generated text:  the man ' s hair is very well and contemplative and vibrant look\n",
            "\n",
            "Time for epoch 27 is 8.6160 sec Train loss: 1.5142\n",
            "Generated text:  the man looks like a protector of himself , his helmet , very interesting to the viewer .\n",
            "\n",
            "Time for epoch 28 is 8.9629 sec Train loss: 1.4357\n",
            "Generated text:  the man ' s hair and beard are look very vibrant .\n",
            "\n",
            "Time for epoch 29 is 9.6281 sec Train loss: 1.3526\n",
            "Generated text:  the man ' s hair indicates he is in deep and deep into his eyes\n",
            "\n",
            "Time for epoch 30 is 9.1052 sec Train loss: 1.2850\n",
            "Generated text:  the man ' s hair and beard looks so stately and vibrant look nice .\n",
            "\n",
            "Time for epoch 31 is 9.1851 sec Train loss: 1.2172\n",
            "Generated text:  the man looks like he is enjoying reading the baby is serious .\n",
            "\n",
            "Time for epoch 32 is 9.2524 sec Train loss: 1.1618\n",
            "Generated text:  the man ' s hair braid is very detailed and lovely and seductive almost beautiful , and painted on the sleeves of the head collar shoulder .\n",
            "\n",
            "Time for epoch 33 is 8.9740 sec Train loss: 1.0946\n",
            "Generated text:  the man is holding a stick to to the woman and sword a the man ' s face\n",
            "\n",
            "Time for epoch 34 is 8.9891 sec Train loss: 1.0438\n",
            "Generated text:  the man looks like he is by his eyes .\n",
            "\n",
            "Time for epoch 35 is 9.2388 sec Train loss: 0.9890\n",
            "Generated text:  the man ' s eyes are drawn in a deep hand look very interesting .\n",
            "\n",
            "Time for epoch 36 is 8.9576 sec Train loss: 0.9439\n",
            "Generated text:  the man looks like he is trying to play a hand which in the paper use of life .\n",
            "\n",
            "Time for epoch 37 is 8.8591 sec Train loss: 0.8996\n",
            "Generated text:  the man looks like he is by his downfall\n",
            "\n",
            "Time for epoch 38 is 9.4543 sec Train loss: 0.8554\n",
            "Generated text:  the man has so angry while the woman looks like she just inhaled flowers .\n",
            "\n",
            "Time for epoch 39 is 8.8997 sec Train loss: 0.8226\n",
            "Generated text:  the man is holding the woman ' s smile while all seems to be lost .\n",
            "\n",
            "Time for epoch 40 is 8.5616 sec Train loss: 0.7937\n",
            "Generated text:  the man is tied and contemplative and lovely since he ' s hat to look at .\n",
            "\n",
            "Time for epoch 41 is 9.5832 sec Train loss: 0.7586\n",
            "Generated text:  the man ' s musculature is very detailed and accurate , it shows pale drawn trying to simpler fish upon work of him .\n",
            "\n",
            "Time for epoch 42 is 9.0533 sec Train loss: 0.7244\n",
            "Generated text:  the man is wearing two rings on to the portrait with a cross in his skin .\n",
            "\n",
            "Time for epoch 43 is 8.8099 sec Train loss: 0.6895\n",
            "Generated text:  the man ' s face looks so very creepy and calm and unhappy and funny .\n",
            "\n",
            "Time for epoch 44 is 9.3290 sec Train loss: 0.6696\n",
            "Generated text:  the man ' s eyes are sunken and strong authority with the fisherman on the left below\n",
            "\n",
            "Time for epoch 45 is 9.0515 sec Train loss: 0.6495\n",
            "Generated text:  the man ' s eyes are sunken and strong after a hand on\n",
            "\n",
            "Time for epoch 46 is 9.0025 sec Train loss: 0.6348\n",
            "Generated text:  the laundry looks so well done so realistic and well done well done very well since his long\n",
            "\n",
            "Time for epoch 47 is 9.5511 sec Train loss: 0.6145\n",
            "Generated text:  the man is wearing two rings on the hand which is so small over the left behind face .\n",
            "\n",
            "Time for epoch 48 is 8.6348 sec Train loss: 0.5949\n",
            "Generated text:  the man ' s eyes are sunken and strong create the mother .\n",
            "\n",
            "Time for epoch 49 is 8.9564 sec Train loss: 0.5810\n",
            "Generated text:  the man ' s eyes seem to take up my entire focus as he holds the basement feeling to him the hair .\n",
            "\n",
            "Time for epoch 50 is 9.3756 sec Train loss: 0.5554\n",
            "Generated text:  the man ' s eyes are quite well done as he looks so he looks so cute .\n",
            "\n",
            "Time for epoch 51 is 9.0168 sec Train loss: 0.5438\n",
            "Generated text:  the man ' s eyes are sunken and strong himself\n",
            "\n",
            "Time for epoch 52 is 8.4878 sec Train loss: 0.5219\n",
            "Generated text:  the man ' s face looks like he has a hard to touch him .\n",
            "\n",
            "Time for epoch 53 is 9.5274 sec Train loss: 0.5089\n",
            "Generated text:  the man ' s face seems so elegantly and forlorn\n",
            "\n",
            "Time for epoch 54 is 8.8723 sec Train loss: 0.5052\n",
            "Generated text:  the man ' s eyes are sunken and good , painted by his necklace and good flames .\n",
            "\n",
            "Time for epoch 55 is 8.9386 sec Train loss: 0.5171\n",
            "Generated text:  the man ' s eyes and hair makes me wonder what they are going on in awe .\n",
            "\n",
            "Time for epoch 56 is 9.3078 sec Train loss: 0.5026\n",
            "Generated text:  the man ' s eyes are sunken and strong himself the fallen me .\n",
            "\n",
            "Time for epoch 57 is 8.6597 sec Train loss: 0.4814\n",
            "Generated text:  the bold blue on the swing of the amusing and comforting .\n",
            "\n",
            "Time for epoch 58 is 8.7307 sec Train loss: 0.4632\n",
            "Generated text:  the naked face of gray and discontent tone\n",
            "\n",
            "Time for epoch 59 is 9.0759 sec Train loss: 0.4445\n",
            "Generated text:  the naked face of gray hair on the face makes for a soft feeling of deep blue green\n",
            "\n",
            "Time for epoch 60 is 9.0095 sec Train loss: 0.4495\n",
            "Generated text:  the man ' s eyes are sunken and good , wonderful child relaxing\n",
            "\n",
            "Time for epoch 61 is 8.8694 sec Train loss: 0.4431\n",
            "Generated text:  the naked lady looks so so well and the child by the emotion of the viewer\n",
            "\n",
            "Time for epoch 62 is 9.5944 sec Train loss: 0.4301\n",
            "Generated text:  the facial body of the portrait as a culture seems to indicate of a fun superb and the man .\n",
            "\n",
            "Time for epoch 63 is 9.0011 sec Train loss: 0.4196\n",
            "Generated text:  the facial expression on the boy ' s face upsets harm .\n",
            "\n",
            "Time for epoch 64 is 8.8169 sec Train loss: 0.4121\n",
            "Generated text:  the man ' s eyes are sunken and his facial hand look relaxed\n",
            "\n",
            "Time for epoch 65 is 9.3400 sec Train loss: 0.4013\n",
            "Generated text:  the naked face of gray hair on the face .\n",
            "\n",
            "Time for epoch 66 is 8.7986 sec Train loss: 0.4061\n",
            "Generated text:  the man is looking over the stripped with his hands and a soft finished dark blue makes me wonder what he is in my to wear .\n",
            "\n",
            "Time for epoch 67 is 9.1253 sec Train loss: 0.4010\n",
            "Generated text:  the little boy is trying to roll the globe around like a toy\n",
            "\n",
            "Time for epoch 68 is 9.4755 sec Train loss: 0.3988\n",
            "Generated text:  the facial detail of the man and his uniform by his face photo .\n",
            "\n",
            "Time for epoch 69 is 9.1521 sec Train loss: 0.3925\n",
            "Generated text:  the little boy is trying to roll the globe around like a toy\n",
            "\n",
            "Time for epoch 70 is 8.8214 sec Train loss: 0.3934\n",
            "Generated text:  the little boy is trying to not welcoming wealthy on this image , while this is something they ' re childhood and not a style and relaxing .\n",
            "\n",
            "Time for epoch 71 is 9.3992 sec Train loss: 0.3789\n",
            "Generated text:  the two lady ' s arm seem rather worried he ' s at it .\n",
            "\n",
            "Time for epoch 72 is 9.2593 sec Train loss: 0.3503\n",
            "Generated text:  the naked photo looks silky and vibrant against the sad dude makes me feel him look as he rough\n",
            "\n",
            "Time for epoch 73 is 8.5940 sec Train loss: 0.3428\n",
            "Generated text:  the man ' s eyes and wrinkles and dreamy given\n",
            "\n",
            "Time for epoch 74 is 9.4001 sec Train loss: 0.3306\n",
            "Generated text:  the facial body of the subject is very welcoming and frightening and not awe gives a sense of seems to harm .\n",
            "\n",
            "Time for epoch 75 is 8.8441 sec Train loss: 0.3215\n",
            "Generated text:  the man ' s face seems like he has a will since he looks .\n",
            "\n",
            "Time for epoch 76 is 8.9162 sec Train loss: 0.3284\n",
            "Generated text:  the man ' s eyes are sunken and good still water his face\n",
            "\n",
            "Time for epoch 77 is 9.4306 sec Train loss: 0.3300\n",
            "Generated text:  the little boy is trying to roll the globe around like a toy\n",
            "\n",
            "Time for epoch 78 is 8.7301 sec Train loss: 0.3312\n",
            "Generated text:  the little boy is trying to roll the globe around like a toy\n",
            "\n",
            "Time for epoch 79 is 8.4400 sec Train loss: 0.3322\n",
            "Generated text:  the little boy is trying to roll the globe around like a toy\n",
            "\n",
            "Time for epoch 80 is 9.2553 sec Train loss: 0.3309\n",
            "Generated text:  the laundry you arrive by the figure as he neglected - also me .\n",
            "\n",
            "Time for epoch 81 is 8.5465 sec Train loss: 0.3260\n",
            "Generated text:  the little boy is trying to roll the globe around like a toy\n",
            "\n",
            "Time for epoch 82 is 8.8148 sec Train loss: 0.3272\n",
            "Generated text:  the little boy is trying to roll the globe around like a toy\n",
            "\n",
            "Time for epoch 83 is 9.2827 sec Train loss: 0.3368\n",
            "Generated text:  the facial detail of the man seems quite so he also make the man\n",
            "\n",
            "Time for epoch 84 is 8.5935 sec Train loss: 0.3309\n",
            "Generated text:  the two characters on either side seem masculine to me and airy i love the tower from the capes standing in the ocean sails to me from the viewer .\n",
            "\n",
            "Time for epoch 85 is 8.4854 sec Train loss: 0.3209\n",
            "Generated text:  the little boy is trying to roll the globe around like a toy\n",
            "\n",
            "Time for epoch 86 is 8.9650 sec Train loss: 0.2978\n",
            "Generated text:  the little boy is trying to roll the globe around like a toy\n",
            "\n",
            "Time for epoch 87 is 8.2002 sec Train loss: 0.2736\n",
            "Generated text:  the little boy is trying to roll the globe around like a toy\n",
            "\n",
            "Time for epoch 88 is 8.7279 sec Train loss: 0.2530\n",
            "Generated text:  the little boy is trying to roll the globe around like a toy\n",
            "\n",
            "Time for epoch 89 is 8.7097 sec Train loss: 0.2423\n",
            "Generated text:  she is trapped the is going through it as an all the world in nature .\n",
            "\n",
            "Time for epoch 90 is 8.3659 sec Train loss: 0.2406\n",
            "Generated text:  the man ' s eyes are sunken and his jacket tones are perfect small view\n",
            "\n",
            "Time for epoch 91 is 8.9307 sec Train loss: 0.2424\n",
            "Generated text:  the two characters on either side seem completely but scary so romantic and inviting . the dull and the stark sets to the artist subject me\n",
            "\n",
            "Time for epoch 92 is 8.4759 sec Train loss: 0.2618\n",
            "Generated text:  the naked face of the figure looks photo-realistic .\n",
            "\n",
            "Time for epoch 93 is 8.5131 sec Train loss: 0.2959\n",
            "Generated text:  the man seems rowdy and not easily controlled .\n",
            "\n",
            "Time for epoch 94 is 9.2380 sec Train loss: 0.3293\n",
            "Generated text:  the little boy is trying to roll the globe around like a toy\n",
            "\n",
            "Time for epoch 95 is 8.5802 sec Train loss: 0.3111\n",
            "Generated text:  the little boy is holding the grass and hands while promises to get into control maiden with their faces .\n",
            "\n",
            "Time for epoch 96 is 9.0238 sec Train loss: 0.2934\n",
            "Generated text:  the facial expression of the man in the painting inspiring since his hands and it shows the two light against the viewer as he is relaxed .\n",
            "\n",
            "Time for epoch 97 is 9.2142 sec Train loss: 0.2816\n",
            "Generated text:  the little boy is about to set that it ' s so deep through a portrait of thought around him in gargoyles .\n",
            "\n",
            "Time for epoch 98 is 8.3218 sec Train loss: 0.2601\n",
            "Generated text:  i am disappointed of the lack of disgust man ' s top on his tiresome look very scary .\n",
            "\n",
            "Time for epoch 99 is 8.9053 sec Train loss: 0.2379\n",
            "Generated text:  she is wearing a stern look to the details on the clothing .\n"
          ]
        }
      ],
      "source": [
        "epochs = 100\n",
        "\n",
        "for epoch in range(epochs):\n",
        "    random_data_for_training()\n",
        "    train(transformer, device, train_loader, optimizer, epoch)\n",
        "    generate(transformer, enc_batch[idx], device, maxlen)"
      ]
    },
    {
      "cell_type": "markdown",
      "metadata": {
        "id": "bYbGZNhEtxWU"
      },
      "source": [
        "- Test the model on validation images."
      ]
    },
    {
      "cell_type": "code",
      "execution_count": 42,
      "metadata": {
        "colab": {
          "base_uri": "https://localhost:8080/",
          "height": 228
        },
        "id": "ywaVrMlZtxWV",
        "outputId": "0c1ca4c9-34ae-4ab5-f1e2-caa6ff9af1d9"
      },
      "outputs": [
        {
          "output_type": "display_data",
          "data": {
            "text/plain": [
              "<Figure size 200x200 with 1 Axes>"
            ],
            "image/png": "[encoded data removed]"
          },
          "metadata": {}
        },
        {
          "output_type": "stream",
          "name": "stdout",
          "text": [
            "Ground truth: the man looks totally lazy since he ' s sunken deep into the chair                   \n",
            "Generated text:  the man looks totally lazy since he ' s sunken deep into the chair\n"
          ]
        }
      ],
      "source": [
        "idx = 4\n",
        "plot_img(enc_batch[idx], target_batch[idx])\n",
        "generate(transformer, enc_batch[idx], device, maxlen)"
      ]
    },
    {
      "cell_type": "code",
      "execution_count": 41,
      "metadata": {
        "colab": {
          "base_uri": "https://localhost:8080/",
          "height": 228
        },
        "id": "Nzdj4YINtxWV",
        "outputId": "4c49d3f0-d9ac-4df0-98d3-6066ee92709a"
      },
      "outputs": [
        {
          "output_type": "display_data",
          "data": {
            "text/plain": [
              "<Figure size 200x200 with 1 Axes>"
            ],
            "image/png": "[encoded data removed]"
          },
          "metadata": {}
        },
        {
          "output_type": "stream",
          "name": "stdout",
          "text": [
            "Ground truth: the people are filled with sadness as they bury their friend .                     \n",
            "Generated text:  the presence of the people digging make me sorry for those who have been lost .\n"
          ]
        }
      ],
      "source": [
        "idx = 52\n",
        "plot_img(enc_batch[idx], target_batch[idx])\n",
        "generate(transformer, enc_batch[idx], device, maxlen)"
      ]
    },
    {
      "cell_type": "code",
      "source": [
        "idx = 33\n",
        "plot_img(enc_batch[idx], target_batch[idx])\n",
        "generate(transformer, enc_batch[idx], device, maxlen)"
      ],
      "metadata": {
        "colab": {
          "base_uri": "https://localhost:8080/",
          "height": 228
        },
        "id": "XxbuE9QkFXTh",
        "outputId": "6264b187-7d04-46d4-9dca-48bec84ad3aa"
      },
      "execution_count": 43,
      "outputs": [
        {
          "output_type": "display_data",
          "data": {
            "text/plain": [
              "<Figure size 200x200 with 1 Axes>"
            ],
            "image/png": "[encoded data removed]"
          },
          "metadata": {}
        },
        {
          "output_type": "stream",
          "name": "stdout",
          "text": [
            "Ground truth: the water cascading down the rocks looks amazing                         \n",
            "Generated text:  the water cascading down the rocks looks amazing\n"
          ]
        }
      ]
    }
  ],
  "metadata": {
    "colab": {
      "provenance": [],
      "machine_shape": "hm",
      "gpuType": "T4"
    },
    "kernelspec": {
      "display_name": "Python 3",
      "name": "python3"
    },
    "language_info": {
      "codemirror_mode": {
        "name": "ipython",
        "version": 3
      },
      "file_extension": ".py",
      "mimetype": "text/x-python",
      "name": "python",
      "nbconvert_exporter": "python",
      "pygments_lexer": "ipython3",
      "version": "3.10.13"
    },
    "accelerator": "GPU"
  },
  "nbformat": 4,
  "nbformat_minor": 0
}