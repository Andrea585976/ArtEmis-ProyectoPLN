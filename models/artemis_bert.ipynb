{
  "cells": [
    {
      "cell_type": "code",
      "execution_count": 58,
      "metadata": {
        "id": "IjspPFjMtxWF"
      },
      "outputs": [],
      "source": [
        "# The MIT License (MIT) Copyright (c) 2023 Emilio Morales\n",
        "#\n",
        "# Permission is hereby granted, free of charge, to any person obtaining a copy of\n",
        "# this software and associated documentation files (the \"Software\"), to deal in the Software without\n",
        "# restriction, including without limitation the rights to use, copy, modify, merge, publish,\n",
        "# distribute, sublicense, and/or sell copies of the Software, and to permit persons to whom the\n",
        "# Software is furnished to do so, subject to the following conditions:\n",
        "#\n",
        "# The above copyright notice and this permission notice shall be included in all copies or\n",
        "# substantial portions of the Software.\n",
        "#\n",
        "# THE SOFTWARE IS PROVIDED \"AS IS\", WITHOUT WARRANTY OF ANY KIND, EXPRESS OR IMPLIED,\n",
        "# INCLUDING BUT NOT LIMITED TO THE WARRANTIES OF MERCHANTABILITY, FITNESS FOR A PARTICULAR PURPOSE AND\n",
        "# NONINFRINGEMENT. IN NO EVENT SHALL THE AUTHORS OR COPYRIGHT HOLDERS BE LIABLE FOR ANY CLAIM, DAMAGES\n",
        "# OR OTHER LIABILITY, WHETHER IN AN ACTION OF CONTRACT, TORT OR OTHERWISE, ARISING FROM, OUT OF OR IN\n",
        "# CONNECTION WITH THE SOFTWARE OR THE USE OR OTHER DEALINGS IN THE SOFTWARE."
      ]
    },
    {
      "cell_type": "markdown",
      "metadata": {
        "id": "pn1TsFNwtxWH"
      },
      "source": [
        "<table class=\"tfo-notebook-buttons\" align=\"left\">\n",
        "  <td>\n",
        "    <a target=\"_blank\" href=\"https://colab.research.google.com/github/Andrea585976/ArtEmis-ProyectoPLN/blob/main/models/artemis_bert.ipynb\">\n",
        "    <img src=\"https://www.tensorflow.org/images/colab_logo_32px.png\" />\n",
        "    Run in Google Colab</a>\n",
        "  </td>\n",
        "</table>"
      ]
    },
    {
      "cell_type": "markdown",
      "metadata": {
        "id": "q3ePBxUitxWH"
      },
      "source": [
        "# Image Captioning Transformer"
      ]
    },
    {
      "cell_type": "markdown",
      "metadata": {
        "id": "dpXA7Q3ttxWI"
      },
      "source": [
        "- This notebook explores the combination of Transformers and CNNs for image captioning, showcasing their remarkable ability to generate descriptive textual captions based on visual content."
      ]
    },
    {
      "cell_type": "code",
      "source": [
        "#!pip install transformers"
      ],
      "metadata": {
        "id": "Gfz-joZn_Hfz"
      },
      "execution_count": 59,
      "outputs": []
    },
    {
      "cell_type": "code",
      "execution_count": 60,
      "metadata": {
        "id": "ryOL1_XG4ABQ",
        "colab": {
          "base_uri": "https://localhost:8080/",
          "height": 55
        },
        "outputId": "289897bb-6a67-4d12-bee0-ab4f8297e184"
      },
      "outputs": [
        {
          "output_type": "execute_result",
          "data": {
            "text/plain": [
              "'2.2.1+cu121'"
            ],
            "application/vnd.google.colaboratory.intrinsic+json": {
              "type": "string"
            }
          },
          "metadata": {},
          "execution_count": 60
        }
      ],
      "source": [
        "import torch\n",
        "import torchvision\n",
        "import PIL\n",
        "import pathlib\n",
        "import random\n",
        "from transformers import DistilBertTokenizer, DistilBertModel\n",
        "torch.__version__"
      ]
    },
    {
      "cell_type": "code",
      "execution_count": 61,
      "metadata": {
        "colab": {
          "base_uri": "https://localhost:8080/"
        },
        "id": "0bUIgZ_RtxWJ",
        "outputId": "bd6e31db-e794-4265-9344-eff32d63e67d"
      },
      "outputs": [
        {
          "output_type": "execute_result",
          "data": {
            "text/plain": [
              "<torch._C.Generator at 0x7883941397d0>"
            ]
          },
          "metadata": {},
          "execution_count": 61
        }
      ],
      "source": [
        "torch.manual_seed(77)"
      ]
    },
    {
      "cell_type": "markdown",
      "metadata": {
        "id": "wrHG-hNPtxWK"
      },
      "source": [
        "## 1.- Dataset"
      ]
    },
    {
      "cell_type": "code",
      "source": [
        "# Download dataset\n",
        "if not os.path.exists('img.zip'):\n",
        "  !wget https://github.com/Andrea585976/ArtEmis-ProyectoPLN/raw/main/img.zip\n",
        "  !unzip img.zip\n",
        "  !rm img.zip\n",
        "if not os.path.exists('romanticism_dataset.csv'):\n",
        "  !wget https://raw.githubusercontent.com/Andrea585976/ArtEmis-ProyectoPLN/main/romanticism_dataset.csv\n"
      ],
      "metadata": {
        "colab": {
          "base_uri": "https://localhost:8080/"
        },
        "id": "DNmrD9kOufHF",
        "outputId": "2c14a379-aa2e-4765-c4b4-3992fe7d35ef"
      },
      "execution_count": 62,
      "outputs": [
        {
          "output_type": "stream",
          "name": "stdout",
          "text": [
            "--2024-05-21 05:33:49--  https://raw.githubusercontent.com/Andrea585976/ArtEmis-ProyectoPLN/main/romanticism_dataset.csv\n",
            "Resolving raw.githubusercontent.com (raw.githubusercontent.com)... 185.199.110.133, 185.199.109.133, 185.199.111.133, ...\n",
            "Connecting to raw.githubusercontent.com (raw.githubusercontent.com)|185.199.110.133|:443... connected.\n",
            "HTTP request sent, awaiting response... 200 OK\n",
            "Length: 5594530 (5.3M) [text/plain]\n",
            "Saving to: ‘romanticism_dataset.csv’\n",
            "\n",
            "\rromanticism_dataset   0%[                    ]       0  --.-KB/s               \rromanticism_dataset 100%[===================>]   5.33M  --.-KB/s    in 0.04s   \n",
            "\n",
            "2024-05-21 05:33:49 (142 MB/s) - ‘romanticism_dataset.csv’ saved [5594530/5594530]\n",
            "\n"
          ]
        }
      ]
    },
    {
      "cell_type": "code",
      "source": [
        "import pandas as pd\n",
        "\n",
        "# Cargar el archivo CSV en un DataFrame de pandas\n",
        "df = pd.read_csv('/content/drive/MyDrive/artemis/romanticism_dataset.csv')\n",
        "print(df.columns)\n",
        "\n",
        "images = df.loc[:, ['painting', 'utterance']]\n",
        "\n",
        "#images.head(10)\n",
        "images['painting'] = images['painting'].apply(lambda x: './img/' + x + '.jpg')\n",
        "\n",
        "images.head(10)"
      ],
      "metadata": {
        "colab": {
          "base_uri": "https://localhost:8080/",
          "height": 400
        },
        "id": "-ihR_qGyvey7",
        "outputId": "28e3eb78-c92b-4313-ef2e-2e2d4ccc295d"
      },
      "execution_count": 63,
      "outputs": [
        {
          "output_type": "stream",
          "name": "stdout",
          "text": [
            "Index(['painting', 'emotion', 'utterance', 'repetition'], dtype='object')\n"
          ]
        },
        {
          "output_type": "execute_result",
          "data": {
            "text/plain": [
              "                                            painting  \\\n",
              "0  ./img/viktor-vasnetsov_ivan-tsarevich-riding-t...   \n",
              "1  ./img/viktor-vasnetsov_ivan-tsarevich-riding-t...   \n",
              "2          ./img/william-turner_fishermen-at-sea.jpg   \n",
              "3          ./img/william-turner_fishermen-at-sea.jpg   \n",
              "4            ./img/paul-cezanne_the-oilmill-1871.jpg   \n",
              "5  ./img/n.c.-wyeth_merlin-taking-away-the-infant...   \n",
              "6     ./img/orest-kiprensky_the-family-of-satyrs.jpg   \n",
              "7  ./img/sir-lawrence-alma-tadema_strigils-and-sp...   \n",
              "8       ./img/orest-kiprensky_putto-with-a-globe.jpg   \n",
              "9   ./img/sir-lawrence-alma-tadema_pleading-1876.jpg   \n",
              "\n",
              "                                           utterance  \n",
              "0  The scene is quite beautiful and reminds me of...  \n",
              "1  There is a sense of romance between the two pe...  \n",
              "2  There is a spooky feel to this image, with the...  \n",
              "3  The boat makes a dangerous journey alone at ni...  \n",
              "4  The village looks very rudimentary with it's s...  \n",
              "5  It looks like the baby is being taken for what...  \n",
              "6    The imps playfully dance and sing to the music.  \n",
              "7  The women appear quite interested in one anoth...  \n",
              "8  The little boy is trying to roll the globe aro...  \n",
              "9  The man laying down in this painting feels lik...  "
            ],
            "text/html": [
              "\n",
              "  <div id=\"df-cfdc30bb-cd9c-4089-b695-d2a2abc08967\" class=\"colab-df-container\">\n",
              "    <div>\n",
              "<style scoped>\n",
              "    .dataframe tbody tr th:only-of-type {\n",
              "        vertical-align: middle;\n",
              "    }\n",
              "\n",
              "    .dataframe tbody tr th {\n",
              "        vertical-align: top;\n",
              "    }\n",
              "\n",
              "    .dataframe thead th {\n",
              "        text-align: right;\n",
              "    }\n",
              "</style>\n",
              "<table border=\"1\" class=\"dataframe\">\n",
              "  <thead>\n",
              "    <tr style=\"text-align: right;\">\n",
              "      <th></th>\n",
              "      <th>painting</th>\n",
              "      <th>utterance</th>\n",
              "    </tr>\n",
              "  </thead>\n",
              "  <tbody>\n",
              "    <tr>\n",
              "      <th>0</th>\n",
              "      <td>./img/viktor-vasnetsov_ivan-tsarevich-riding-t...</td>\n",
              "      <td>The scene is quite beautiful and reminds me of...</td>\n",
              "    </tr>\n",
              "    <tr>\n",
              "      <th>1</th>\n",
              "      <td>./img/viktor-vasnetsov_ivan-tsarevich-riding-t...</td>\n",
              "      <td>There is a sense of romance between the two pe...</td>\n",
              "    </tr>\n",
              "    <tr>\n",
              "      <th>2</th>\n",
              "      <td>./img/william-turner_fishermen-at-sea.jpg</td>\n",
              "      <td>There is a spooky feel to this image, with the...</td>\n",
              "    </tr>\n",
              "    <tr>\n",
              "      <th>3</th>\n",
              "      <td>./img/william-turner_fishermen-at-sea.jpg</td>\n",
              "      <td>The boat makes a dangerous journey alone at ni...</td>\n",
              "    </tr>\n",
              "    <tr>\n",
              "      <th>4</th>\n",
              "      <td>./img/paul-cezanne_the-oilmill-1871.jpg</td>\n",
              "      <td>The village looks very rudimentary with it's s...</td>\n",
              "    </tr>\n",
              "    <tr>\n",
              "      <th>5</th>\n",
              "      <td>./img/n.c.-wyeth_merlin-taking-away-the-infant...</td>\n",
              "      <td>It looks like the baby is being taken for what...</td>\n",
              "    </tr>\n",
              "    <tr>\n",
              "      <th>6</th>\n",
              "      <td>./img/orest-kiprensky_the-family-of-satyrs.jpg</td>\n",
              "      <td>The imps playfully dance and sing to the music.</td>\n",
              "    </tr>\n",
              "    <tr>\n",
              "      <th>7</th>\n",
              "      <td>./img/sir-lawrence-alma-tadema_strigils-and-sp...</td>\n",
              "      <td>The women appear quite interested in one anoth...</td>\n",
              "    </tr>\n",
              "    <tr>\n",
              "      <th>8</th>\n",
              "      <td>./img/orest-kiprensky_putto-with-a-globe.jpg</td>\n",
              "      <td>The little boy is trying to roll the globe aro...</td>\n",
              "    </tr>\n",
              "    <tr>\n",
              "      <th>9</th>\n",
              "      <td>./img/sir-lawrence-alma-tadema_pleading-1876.jpg</td>\n",
              "      <td>The man laying down in this painting feels lik...</td>\n",
              "    </tr>\n",
              "  </tbody>\n",
              "</table>\n",
              "</div>\n",
              "    <div class=\"colab-df-buttons\">\n",
              "\n",
              "  <div class=\"colab-df-container\">\n",
              "    <button class=\"colab-df-convert\" onclick=\"convertToInteractive('df-cfdc30bb-cd9c-4089-b695-d2a2abc08967')\"\n",
              "            title=\"Convert this dataframe to an interactive table.\"\n",
              "            style=\"display:none;\">\n",
              "\n",
              "  <svg xmlns=\"http://www.w3.org/2000/svg\" height=\"24px\" viewBox=\"0 -960 960 960\">\n",
              "    <path d=\"M120-120v-720h720v720H120Zm60-500h600v-160H180v160Zm220 220h160v-160H400v160Zm0 220h160v-160H400v160ZM180-400h160v-160H180v160Zm440 0h160v-160H620v160ZM180-180h160v-160H180v160Zm440 0h160v-160H620v160Z\"/>\n",
              "  </svg>\n",
              "    </button>\n",
              "\n",
              "  <style>\n",
              "    .colab-df-container {\n",
              "      display:flex;\n",
              "      gap: 12px;\n",
              "    }\n",
              "\n",
              "    .colab-df-convert {\n",
              "      background-color: #E8F0FE;\n",
              "      border: none;\n",
              "      border-radius: 50%;\n",
              "      cursor: pointer;\n",
              "      display: none;\n",
              "      fill: #1967D2;\n",
              "      height: 32px;\n",
              "      padding: 0 0 0 0;\n",
              "      width: 32px;\n",
              "    }\n",
              "\n",
              "    .colab-df-convert:hover {\n",
              "      background-color: #E2EBFA;\n",
              "      box-shadow: 0px 1px 2px rgba(60, 64, 67, 0.3), 0px 1px 3px 1px rgba(60, 64, 67, 0.15);\n",
              "      fill: #174EA6;\n",
              "    }\n",
              "\n",
              "    .colab-df-buttons div {\n",
              "      margin-bottom: 4px;\n",
              "    }\n",
              "\n",
              "    [theme=dark] .colab-df-convert {\n",
              "      background-color: #3B4455;\n",
              "      fill: #D2E3FC;\n",
              "    }\n",
              "\n",
              "    [theme=dark] .colab-df-convert:hover {\n",
              "      background-color: #434B5C;\n",
              "      box-shadow: 0px 1px 3px 1px rgba(0, 0, 0, 0.15);\n",
              "      filter: drop-shadow(0px 1px 2px rgba(0, 0, 0, 0.3));\n",
              "      fill: #FFFFFF;\n",
              "    }\n",
              "  </style>\n",
              "\n",
              "    <script>\n",
              "      const buttonEl =\n",
              "        document.querySelector('#df-cfdc30bb-cd9c-4089-b695-d2a2abc08967 button.colab-df-convert');\n",
              "      buttonEl.style.display =\n",
              "        google.colab.kernel.accessAllowed ? 'block' : 'none';\n",
              "\n",
              "      async function convertToInteractive(key) {\n",
              "        const element = document.querySelector('#df-cfdc30bb-cd9c-4089-b695-d2a2abc08967');\n",
              "        const dataTable =\n",
              "          await google.colab.kernel.invokeFunction('convertToInteractive',\n",
              "                                                    [key], {});\n",
              "        if (!dataTable) return;\n",
              "\n",
              "        const docLinkHtml = 'Like what you see? Visit the ' +\n",
              "          '<a target=\"_blank\" href=https://colab.research.google.com/notebooks/data_table.ipynb>data table notebook</a>'\n",
              "          + ' to learn more about interactive tables.';\n",
              "        element.innerHTML = '';\n",
              "        dataTable['output_type'] = 'display_data';\n",
              "        await google.colab.output.renderOutput(dataTable, element);\n",
              "        const docLink = document.createElement('div');\n",
              "        docLink.innerHTML = docLinkHtml;\n",
              "        element.appendChild(docLink);\n",
              "      }\n",
              "    </script>\n",
              "  </div>\n",
              "\n",
              "\n",
              "<div id=\"df-81b648f2-007e-430e-8169-93348a78b191\">\n",
              "  <button class=\"colab-df-quickchart\" onclick=\"quickchart('df-81b648f2-007e-430e-8169-93348a78b191')\"\n",
              "            title=\"Suggest charts\"\n",
              "            style=\"display:none;\">\n",
              "\n",
              "<svg xmlns=\"http://www.w3.org/2000/svg\" height=\"24px\"viewBox=\"0 0 24 24\"\n",
              "     width=\"24px\">\n",
              "    <g>\n",
              "        <path d=\"M19 3H5c-1.1 0-2 .9-2 2v14c0 1.1.9 2 2 2h14c1.1 0 2-.9 2-2V5c0-1.1-.9-2-2-2zM9 17H7v-7h2v7zm4 0h-2V7h2v10zm4 0h-2v-4h2v4z\"/>\n",
              "    </g>\n",
              "</svg>\n",
              "  </button>\n",
              "\n",
              "<style>\n",
              "  .colab-df-quickchart {\n",
              "      --bg-color: #E8F0FE;\n",
              "      --fill-color: #1967D2;\n",
              "      --hover-bg-color: #E2EBFA;\n",
              "      --hover-fill-color: #174EA6;\n",
              "      --disabled-fill-color: #AAA;\n",
              "      --disabled-bg-color: #DDD;\n",
              "  }\n",
              "\n",
              "  [theme=dark] .colab-df-quickchart {\n",
              "      --bg-color: #3B4455;\n",
              "      --fill-color: #D2E3FC;\n",
              "      --hover-bg-color: #434B5C;\n",
              "      --hover-fill-color: #FFFFFF;\n",
              "      --disabled-bg-color: #3B4455;\n",
              "      --disabled-fill-color: #666;\n",
              "  }\n",
              "\n",
              "  .colab-df-quickchart {\n",
              "    background-color: var(--bg-color);\n",
              "    border: none;\n",
              "    border-radius: 50%;\n",
              "    cursor: pointer;\n",
              "    display: none;\n",
              "    fill: var(--fill-color);\n",
              "    height: 32px;\n",
              "    padding: 0;\n",
              "    width: 32px;\n",
              "  }\n",
              "\n",
              "  .colab-df-quickchart:hover {\n",
              "    background-color: var(--hover-bg-color);\n",
              "    box-shadow: 0 1px 2px rgba(60, 64, 67, 0.3), 0 1px 3px 1px rgba(60, 64, 67, 0.15);\n",
              "    fill: var(--button-hover-fill-color);\n",
              "  }\n",
              "\n",
              "  .colab-df-quickchart-complete:disabled,\n",
              "  .colab-df-quickchart-complete:disabled:hover {\n",
              "    background-color: var(--disabled-bg-color);\n",
              "    fill: var(--disabled-fill-color);\n",
              "    box-shadow: none;\n",
              "  }\n",
              "\n",
              "  .colab-df-spinner {\n",
              "    border: 2px solid var(--fill-color);\n",
              "    border-color: transparent;\n",
              "    border-bottom-color: var(--fill-color);\n",
              "    animation:\n",
              "      spin 1s steps(1) infinite;\n",
              "  }\n",
              "\n",
              "  @keyframes spin {\n",
              "    0% {\n",
              "      border-color: transparent;\n",
              "      border-bottom-color: var(--fill-color);\n",
              "      border-left-color: var(--fill-color);\n",
              "    }\n",
              "    20% {\n",
              "      border-color: transparent;\n",
              "      border-left-color: var(--fill-color);\n",
              "      border-top-color: var(--fill-color);\n",
              "    }\n",
              "    30% {\n",
              "      border-color: transparent;\n",
              "      border-left-color: var(--fill-color);\n",
              "      border-top-color: var(--fill-color);\n",
              "      border-right-color: var(--fill-color);\n",
              "    }\n",
              "    40% {\n",
              "      border-color: transparent;\n",
              "      border-right-color: var(--fill-color);\n",
              "      border-top-color: var(--fill-color);\n",
              "    }\n",
              "    60% {\n",
              "      border-color: transparent;\n",
              "      border-right-color: var(--fill-color);\n",
              "    }\n",
              "    80% {\n",
              "      border-color: transparent;\n",
              "      border-right-color: var(--fill-color);\n",
              "      border-bottom-color: var(--fill-color);\n",
              "    }\n",
              "    90% {\n",
              "      border-color: transparent;\n",
              "      border-bottom-color: var(--fill-color);\n",
              "    }\n",
              "  }\n",
              "</style>\n",
              "\n",
              "  <script>\n",
              "    async function quickchart(key) {\n",
              "      const quickchartButtonEl =\n",
              "        document.querySelector('#' + key + ' button');\n",
              "      quickchartButtonEl.disabled = true;  // To prevent multiple clicks.\n",
              "      quickchartButtonEl.classList.add('colab-df-spinner');\n",
              "      try {\n",
              "        const charts = await google.colab.kernel.invokeFunction(\n",
              "            'suggestCharts', [key], {});\n",
              "      } catch (error) {\n",
              "        console.error('Error during call to suggestCharts:', error);\n",
              "      }\n",
              "      quickchartButtonEl.classList.remove('colab-df-spinner');\n",
              "      quickchartButtonEl.classList.add('colab-df-quickchart-complete');\n",
              "    }\n",
              "    (() => {\n",
              "      let quickchartButtonEl =\n",
              "        document.querySelector('#df-81b648f2-007e-430e-8169-93348a78b191 button');\n",
              "      quickchartButtonEl.style.display =\n",
              "        google.colab.kernel.accessAllowed ? 'block' : 'none';\n",
              "    })();\n",
              "  </script>\n",
              "</div>\n",
              "    </div>\n",
              "  </div>\n"
            ],
            "application/vnd.google.colaboratory.intrinsic+json": {
              "type": "dataframe",
              "variable_name": "images",
              "summary": "{\n  \"name\": \"images\",\n  \"rows\": 39069,\n  \"fields\": [\n    {\n      \"column\": \"painting\",\n      \"properties\": {\n        \"dtype\": \"category\",\n        \"num_unique_values\": 6901,\n        \"samples\": [\n          \"./img/gustave-dore_ancient-mariner.jpg\",\n          \"./img/william-turner_carisbrook-castle-isle-of-wight.jpg\",\n          \"./img/ivan-aivazovsky_the-bay-of-naples-at-night-1895.jpg\"\n        ],\n        \"semantic_type\": \"\",\n        \"description\": \"\"\n      }\n    },\n    {\n      \"column\": \"utterance\",\n      \"properties\": {\n        \"dtype\": \"string\",\n        \"num_unique_values\": 39057,\n        \"samples\": [\n          \"The men in the scene are thin and frail, as if starved to death.\",\n          \"Although I like the texture, I do not like still lifes and the colors are not apealling.\",\n          \"she is attempting to lure us into a trap\"\n        ],\n        \"semantic_type\": \"\",\n        \"description\": \"\"\n      }\n    }\n  ]\n}"
            }
          },
          "metadata": {},
          "execution_count": 63
        }
      ]
    },
    {
      "cell_type": "markdown",
      "metadata": {
        "id": "_yki4_ZBtxWK"
      },
      "source": [
        "- Download images:"
      ]
    },
    {
      "cell_type": "code",
      "execution_count": 64,
      "metadata": {
        "colab": {
          "base_uri": "https://localhost:8080/"
        },
        "id": "YCqCJEgAtxWM",
        "outputId": "1b79b51c-45b1-4bd7-b5f5-17739b995675"
      },
      "outputs": [
        {
          "output_type": "execute_result",
          "data": {
            "text/plain": [
              "39069"
            ]
          },
          "metadata": {},
          "execution_count": 64
        }
      ],
      "source": [
        "\n",
        "import numpy as np\n",
        "\n",
        "# Convertir df_subset en un arreglo NumPy sin nombres de columnas\n",
        "images = images.values\n",
        "len(images)"
      ]
    },
    {
      "cell_type": "markdown",
      "metadata": {
        "id": "Mn1ZGeiTtxWM"
      },
      "source": [
        "- Dataset split"
      ]
    },
    {
      "cell_type": "code",
      "execution_count": 65,
      "metadata": {
        "colab": {
          "base_uri": "https://localhost:8080/"
        },
        "id": "nmsQFrittxWM",
        "outputId": "59ccdb92-a12d-4b5c-d8a0-06cddf9e47eb"
      },
      "outputs": [
        {
          "output_type": "execute_result",
          "data": {
            "text/plain": [
              "(37116, 1953)"
            ]
          },
          "metadata": {},
          "execution_count": 65
        }
      ],
      "source": [
        "random.Random(77).shuffle(images)\n",
        "\n",
        "num_val_samples = int(0.05 * len(images))\n",
        "train_images = images[num_val_samples:]\n",
        "val_images= images[:num_val_samples]\n",
        "len(train_images), len(val_images)"
      ]
    },
    {
      "cell_type": "code",
      "execution_count": 66,
      "metadata": {
        "colab": {
          "base_uri": "https://localhost:8080/"
        },
        "id": "CFbtA_8ZtxWM",
        "outputId": "e878cef1-c028-4d72-c56f-9fc82d2c1cdf"
      },
      "outputs": [
        {
          "output_type": "execute_result",
          "data": {
            "text/plain": [
              "(36732, 1953)"
            ]
          },
          "metadata": {},
          "execution_count": 66
        }
      ],
      "source": [
        "import os\n",
        "\n",
        "def generate_tuples(paths):\n",
        "    tuples = []\n",
        "    for image_path, text in paths:\n",
        "        if os.path.exists(image_path):  # Verificar si la imagen existe en la ruta\n",
        "            tuples.append((image_path, text.strip()))\n",
        "    return tuples\n",
        "\n",
        "train_tuples = generate_tuples(train_images)\n",
        "val_tuples = generate_tuples(val_images)\n",
        "\n",
        "len(train_tuples), len(val_tuples)"
      ]
    },
    {
      "cell_type": "code",
      "execution_count": 67,
      "metadata": {
        "colab": {
          "base_uri": "https://localhost:8080/"
        },
        "id": "egmeogdltxWM",
        "outputId": "eebb490d-c293-4b2e-ada8-8960b0693b57"
      },
      "outputs": [
        {
          "output_type": "stream",
          "name": "stdout",
          "text": [
            "('./img/gustave-dore_samson-carries-away-the-gates-of-gaza.jpg', 'The dark painting is far from my favorite, but the animal by the ocean is still a beautiful scene.')\n",
            "('./img/gustave-dore_the-inferno-canto-12-2.jpg', 'The black and grey colors combined with the violent figures')\n"
          ]
        }
      ],
      "source": [
        "for tuple in train_tuples[:2]:\n",
        "    print(tuple)"
      ]
    },
    {
      "cell_type": "markdown",
      "metadata": {
        "id": "hn6PX192txWN"
      },
      "source": [
        "## 2.- Pipeline"
      ]
    },
    {
      "cell_type": "markdown",
      "metadata": {
        "id": "_Thd9aPLtxWN"
      },
      "source": [
        "- Create vocabulary and tokenizer."
      ]
    },
    {
      "cell_type": "code",
      "execution_count": 68,
      "metadata": {
        "id": "7-V2bNQqpLTE"
      },
      "outputs": [],
      "source": [
        "from torchtext.data.utils import get_tokenizer\n",
        "from torchtext.vocab import vocab as Vocab\n",
        "from collections import Counter"
      ]
    },
    {
      "cell_type": "code",
      "execution_count": 69,
      "metadata": {
        "id": "0viwLWSUpGrk"
      },
      "outputs": [],
      "source": [
        "tokenizer = DistilBertTokenizer.from_pretrained('distilbert-base-uncased', do_lower_case=True)\n",
        "bert_model = DistilBertModel.from_pretrained('distilbert-base-uncased')"
      ]
    },
    {
      "cell_type": "code",
      "execution_count": 70,
      "metadata": {
        "id": "RlV0maHzt88t",
        "colab": {
          "base_uri": "https://localhost:8080/"
        },
        "outputId": "8679f89e-b89a-4ac7-fa54-88ba5ff89c5f"
      },
      "outputs": [
        {
          "output_type": "execute_result",
          "data": {
            "text/plain": [
              "30522"
            ]
          },
          "metadata": {},
          "execution_count": 70
        }
      ],
      "source": [
        "vocab_size = tokenizer.vocab_size\n",
        "vocab_size"
      ]
    },
    {
      "cell_type": "code",
      "execution_count": 71,
      "metadata": {
        "id": "JQqHIlc-txWP"
      },
      "outputs": [],
      "source": [
        "image_size = 128\n",
        "batch_size = 64\n",
        "maxlen = 36\n"
      ]
    },
    {
      "cell_type": "markdown",
      "metadata": {
        "id": "HCJfc5S4txWP"
      },
      "source": [
        "- Reduce dataset size for simplicity"
      ]
    },
    {
      "cell_type": "code",
      "execution_count": 72,
      "metadata": {
        "id": "_vU0G5D8txWP",
        "colab": {
          "base_uri": "https://localhost:8080/"
        },
        "outputId": "aca7d04a-760f-4602-b805-6ee7fb9cecbe"
      },
      "outputs": [
        {
          "output_type": "execute_result",
          "data": {
            "text/plain": [
              "(36732, 1000)"
            ]
          },
          "metadata": {},
          "execution_count": 72
        }
      ],
      "source": [
        "def data_process(text, tokenizer, maxlen):\n",
        "    data = []\n",
        "    for x, y in text:\n",
        "        tensor_ = torch.tensor(\n",
        "            tokenizer.encode(y, truncation=True, padding='max_length', max_length=maxlen, add_special_tokens=True),\n",
        "            dtype=torch.long\n",
        "        )\n",
        "        data.append((x, tensor_))\n",
        "    return data\n",
        "\n",
        "# Procesar datos\n",
        "image_size = 128\n",
        "batch_size = 64\n",
        "maxlen = 36\n",
        "\n",
        "train_data = data_process(train_tuples[:50000], tokenizer, maxlen)\n",
        "val_data = data_process(val_tuples[:1000], tokenizer, maxlen)\n",
        "len(train_data), len(val_data)"
      ]
    },
    {
      "cell_type": "code",
      "execution_count": 73,
      "metadata": {
        "id": "7Hsq2AkdtxWQ",
        "colab": {
          "base_uri": "https://localhost:8080/"
        },
        "outputId": "e6da0766-7350-47d2-a8eb-bb7caf2d9989"
      },
      "outputs": [
        {
          "output_type": "stream",
          "name": "stderr",
          "text": [
            "/usr/local/lib/python3.10/dist-packages/torch/utils/data/dataloader.py:558: UserWarning: This DataLoader will create 4 worker processes in total. Our suggested max number of worker in current system is 2, which is smaller than what this DataLoader is going to create. Please be aware that excessive worker creation might get DataLoader running slow or even freeze, lower the worker number to avoid potential slowness/freeze if necessary.\n",
            "  warnings.warn(_create_warning_msg(\n"
          ]
        }
      ],
      "source": [
        "from torch.nn.utils.rnn import pad_sequence\n",
        "from torch.utils.data import DataLoader\n",
        "from torchvision import transforms\n",
        "from torch.nn.utils.rnn import pad_sequence\n",
        "from PIL import Image\n",
        "\n",
        "transform = transforms.Compose([\n",
        "            transforms.Resize((image_size, image_size)),\n",
        "            transforms.RandomHorizontalFlip(),\n",
        "            transforms.ToTensor()\n",
        "])\n",
        "\n",
        "def generate_batch(data_batch):\n",
        "    x, y = [], []\n",
        "    for (x_item, y_item) in data_batch:\n",
        "        image = Image.open(x_item).convert('RGB')\n",
        "        image = transform(image)\n",
        "        x.append(image)\n",
        "        y.append(y_item)\n",
        "    x = torch.stack(x)\n",
        "    y = pad_sequence(y, batch_first=True, padding_value=tokenizer.pad_token_id)\n",
        "    return x, y[:, :-1], y[:, 1:]\n",
        "\n",
        "\n",
        "train_loader = DataLoader(train_data, batch_size=batch_size,\n",
        "                    shuffle=True, collate_fn=generate_batch,\n",
        "                    num_workers=4, pin_memory=True)\n",
        "\n",
        "val_loader = DataLoader(val_data, batch_size=batch_size,\n",
        "                    shuffle=False, collate_fn=generate_batch,\n",
        "                    num_workers=4, pin_memory=True)"
      ]
    },
    {
      "cell_type": "code",
      "execution_count": 74,
      "metadata": {
        "id": "EG3MuSp4txWQ",
        "colab": {
          "base_uri": "https://localhost:8080/"
        },
        "outputId": "0b51012e-846f-43e2-f8e6-1c3dea04b4ba"
      },
      "outputs": [
        {
          "output_type": "stream",
          "name": "stderr",
          "text": [
            "/usr/lib/python3.10/multiprocessing/popen_fork.py:66: RuntimeWarning: os.fork() was called. os.fork() is incompatible with multithreaded code, and JAX is multithreaded, so this will likely lead to a deadlock.\n",
            "  self.pid = os.fork()\n",
            "/usr/lib/python3.10/multiprocessing/popen_fork.py:66: RuntimeWarning: os.fork() was called. os.fork() is incompatible with multithreaded code, and JAX is multithreaded, so this will likely lead to a deadlock.\n",
            "  self.pid = os.fork()\n"
          ]
        },
        {
          "output_type": "execute_result",
          "data": {
            "text/plain": [
              "(torch.Size([64, 3, 128, 128]), torch.Size([64, 35]), torch.Size([64, 35]))"
            ]
          },
          "metadata": {},
          "execution_count": 74
        }
      ],
      "source": [
        "enc_batch, dec_batch, target_batch = next(iter(val_loader))\n",
        "enc_batch.shape, dec_batch.shape, target_batch.shape"
      ]
    },
    {
      "cell_type": "code",
      "execution_count": 75,
      "metadata": {
        "id": "CLyrlhAAtxWQ"
      },
      "outputs": [],
      "source": [
        "import matplotlib.pyplot as plt"
      ]
    },
    {
      "cell_type": "code",
      "execution_count": 76,
      "metadata": {
        "id": "341DetCWtxWQ",
        "colab": {
          "base_uri": "https://localhost:8080/",
          "height": 228
        },
        "outputId": "ba820fc4-5962-473f-f6c9-4eb5fd82e9f2"
      },
      "outputs": [
        {
          "output_type": "display_data",
          "data": {
            "text/plain": [
              "<Figure size 200x200 with 1 Axes>"
            ],
            "image/png": "[encoded data removed]"
          },
          "metadata": {}
        },
        {
          "output_type": "stream",
          "name": "stdout",
          "text": [
            "Ground truth: it looks like the baby is being taken for whatever reason but you can see solemn faces and a woman crying.\n"
          ]
        }
      ],
      "source": [
        "def plot_img(img, target):\n",
        "    image_array = img.permute(1, 2, 0).numpy()\n",
        "    # Decodificar los tokens usando el tokenizador de BERT\n",
        "    target_text = tokenizer.decode(target.tolist(), skip_special_tokens=True)\n",
        "\n",
        "    fig = plt.figure(figsize=(2, 2))\n",
        "\n",
        "    # Mostrar la imagen\n",
        "    plt.imshow(image_array)\n",
        "    plt.axis('off')  # Opcional: Ocultar los ejes\n",
        "    plt.show()\n",
        "    print(f'Ground truth: {target_text}')\n",
        "\n",
        "idx = 10\n",
        "plot_img(enc_batch[idx], target_batch[idx])"
      ]
    },
    {
      "cell_type": "markdown",
      "metadata": {
        "id": "PZ7f4DHJreIj"
      },
      "source": [
        "## 3.- Model"
      ]
    },
    {
      "cell_type": "markdown",
      "metadata": {
        "tags": [],
        "id": "u-X5rKvttxWQ"
      },
      "source": [
        "### Feature extraction block\n",
        "- Define a convolutional network for image feature extraction."
      ]
    },
    {
      "cell_type": "code",
      "execution_count": 77,
      "metadata": {
        "id": "WYdXJICHtxWQ"
      },
      "outputs": [],
      "source": [
        "import torch.nn as nn\n",
        "from torch import optim\n",
        "import time"
      ]
    },
    {
      "cell_type": "code",
      "execution_count": 78,
      "metadata": {
        "id": "XC-prvh8txWQ"
      },
      "outputs": [],
      "source": [
        "class DownBlockComp(nn.Module):\n",
        "    def __init__(self, in_planes, out_planes):\n",
        "        super(DownBlockComp, self).__init__()\n",
        "\n",
        "        self.main = nn.Sequential(\n",
        "            nn.Conv2d(in_planes, out_planes, 3, 2, 1, bias=False),\n",
        "            nn.BatchNorm2d(out_planes), nn.LeakyReLU(0.2, inplace=True),\n",
        "        )\n",
        "\n",
        "        self.direct = nn.Sequential(\n",
        "            nn.AvgPool2d(2, 2),\n",
        "            nn.Conv2d(in_planes, out_planes, 1, 1, 0, bias=False),\n",
        "            nn.BatchNorm2d(out_planes), nn.LeakyReLU(0.2, inplace=True))\n",
        "\n",
        "    def forward(self, feat):\n",
        "        return (self.main(feat) + self.direct(feat)) / 2"
      ]
    },
    {
      "cell_type": "code",
      "execution_count": 79,
      "metadata": {
        "scrolled": true,
        "id": "4411NXVWtxWR",
        "colab": {
          "base_uri": "https://localhost:8080/"
        },
        "outputId": "74481d24-bbd1-441e-9452-8fc93d310e44"
      },
      "outputs": [
        {
          "output_type": "execute_result",
          "data": {
            "text/plain": [
              "torch.Size([64, 36, 256])"
            ]
          },
          "metadata": {},
          "execution_count": 79
        }
      ],
      "source": [
        "class CNN(nn.Module):\n",
        "    def __init__(self, filters=128):\n",
        "        super(CNN, self).__init__()\n",
        "        self.filters = filters\n",
        "        self.down_block = nn.Sequential(\n",
        "            nn.Conv2d(3, filters // 8, 3, 1, 1, bias=False),\n",
        "            nn.BatchNorm2d(filters // 8), nn.LeakyReLU(0.2, inplace=True),\n",
        "            DownBlockComp(filters // 8, filters // 4),\n",
        "            DownBlockComp(filters // 4, filters // 2),\n",
        "            DownBlockComp(filters // 2, filters),\n",
        "            DownBlockComp(filters, filters),\n",
        "            nn.Conv2d(filters, filters, 3, 1, 0, bias=False),\n",
        "            nn.LeakyReLU(0.2, inplace=True),\n",
        "        )\n",
        "\n",
        "    def forward(self, x):\n",
        "        B = x.shape[0]\n",
        "        x = self.down_block(x)\n",
        "        x = torch.permute(x, [0, 2, 3, 1]).view(B, -1, self.filters)\n",
        "        return x\n",
        "\n",
        "\n",
        "discriminator = CNN(256)\n",
        "out_disc = discriminator(enc_batch)\n",
        "out_disc.shape"
      ]
    },
    {
      "cell_type": "markdown",
      "metadata": {
        "id": "R_X9TWMZtxWR"
      },
      "source": [
        "### Transformer block"
      ]
    },
    {
      "cell_type": "code",
      "execution_count": 80,
      "metadata": {
        "id": "dT6uffV0rdh_",
        "scrolled": true,
        "tags": [],
        "colab": {
          "base_uri": "https://localhost:8080/"
        },
        "outputId": "db229a2b-fd7b-4459-e814-fe8893784eff"
      },
      "outputs": [
        {
          "output_type": "execute_result",
          "data": {
            "text/plain": [
              "(torch.Size([1, 8, 32]), torch.Size([1, 8, 32]))"
            ]
          },
          "metadata": {},
          "execution_count": 80
        }
      ],
      "source": [
        "class Attention(nn.Module):\n",
        "    def __init__(self, dim, maxlen, n_heads=4, bias=True):\n",
        "        super().__init__()\n",
        "        self.n_heads = n_heads\n",
        "        self.scale = (dim // n_heads) ** -0.5\n",
        "        self.wq = nn.Linear(dim, dim, bias = bias)\n",
        "        self.wk = nn.Linear(dim, dim, bias = bias)\n",
        "        self.wv = nn.Linear(dim, dim, bias = bias)\n",
        "\n",
        "        self.wo = nn.Linear(dim, dim, bias = bias)\n",
        "        self.register_buffer(\"bias\", torch.tril(torch.ones(maxlen, maxlen)).view(1, 1, maxlen, maxlen))\n",
        "\n",
        "    def forward(self, x, context=None):\n",
        "        B, L, D = x.shape\n",
        "        out_L = L\n",
        "        q = self.wq(x)\n",
        "        q = torch.reshape(q, [B, L, self.n_heads, -1])\n",
        "        q = torch.permute(q, [0, 2, 1, 3])\n",
        "\n",
        "        if context == None:\n",
        "            k = self.wk(x)\n",
        "            v = self.wv(x)\n",
        "        else:\n",
        "            k = self.wk(context)\n",
        "            v = self.wv(context)\n",
        "            B, L, D = k.shape\n",
        "\n",
        "        k = torch.reshape(k, [B, L, self.n_heads, -1])\n",
        "        k = torch.permute(k, [0, 2, 3, 1])\n",
        "        v = torch.reshape(v, [B, L, self.n_heads, -1])\n",
        "        v = torch.permute(v, [0, 2, 1, 3])\n",
        "\n",
        "        qk = torch.matmul(q, k) * self.scale\n",
        "        if context == None:\n",
        "            qk = qk.masked_fill(self.bias[:,:,:L,:L] == 0, float('-inf'))\n",
        "\n",
        "        attn = torch.softmax(qk, dim=-1)\n",
        "\n",
        "        v_attn = torch.matmul(attn, v)\n",
        "        v_attn = torch.permute(v_attn, [0, 2, 1, 3])\n",
        "        v_attn = torch.reshape(v_attn, [B, out_L, D])\n",
        "\n",
        "        x = self.wo(v_attn)\n",
        "        return x\n",
        "\n",
        "\n",
        "q_test = torch.ones([1, 8, 32])\n",
        "k_test = torch.ones([1, 64, 32])\n",
        "test_layer = Attention(32, maxlen, n_heads=4)\n",
        "test_layer(q_test).shape, test_layer(q_test, k_test).shape"
      ]
    },
    {
      "cell_type": "markdown",
      "metadata": {
        "id": "myY4bhNztxWR"
      },
      "source": [
        "- Define Transformer:"
      ]
    },
    {
      "cell_type": "code",
      "execution_count": 81,
      "metadata": {
        "id": "rqDwbCJCAO0A",
        "colab": {
          "base_uri": "https://localhost:8080/"
        },
        "outputId": "093c1288-1e9e-417d-9814-0686e5cca2b7"
      },
      "outputs": [
        {
          "output_type": "execute_result",
          "data": {
            "text/plain": [
              "torch.Size([1, 36, 32])"
            ]
          },
          "metadata": {},
          "execution_count": 81
        }
      ],
      "source": [
        "class DecoderBlock(nn.Module):\n",
        "    def __init__(self, dim, maxlen, heads=4, mlp_dim=512, rate=0.0):\n",
        "        super().__init__()\n",
        "        self.ln_1 = nn.LayerNorm(dim)\n",
        "        self.attn = Attention(dim, maxlen)\n",
        "        self.cross_attn = Attention(dim, maxlen)\n",
        "        self.ln_2 = nn.LayerNorm(dim)\n",
        "        self.ln_3 = nn.LayerNorm(dim)\n",
        "        self.mlp = nn.Sequential(\n",
        "            nn.Linear(dim, mlp_dim),\n",
        "            nn.GELU(),\n",
        "            nn.Dropout(rate),\n",
        "            nn.Linear(mlp_dim, dim),\n",
        "            nn.Dropout(rate),\n",
        "        )\n",
        "\n",
        "    def forward(self, x):\n",
        "        inputs, context = x\n",
        "        x = self.attn(inputs)\n",
        "        skip1 = self.ln_1(x + inputs)\n",
        "        x = self.cross_attn(skip1, context)\n",
        "        skip2 = self.ln_2(x + skip1)\n",
        "        return self.ln_3(self.mlp(skip2) + skip2)\n",
        "\n",
        "\n",
        "test_layer = DecoderBlock(32, maxlen)\n",
        "x_test = torch.ones([1, maxlen, 32])\n",
        "test_layer([x_test, x_test]).shape"
      ]
    },
    {
      "cell_type": "markdown",
      "metadata": {
        "id": "xSGf8AgRtxWS"
      },
      "source": [
        "- Define Transformer"
      ]
    },
    {
      "cell_type": "code",
      "execution_count": 82,
      "metadata": {
        "id": "N48XXPxatxWS",
        "colab": {
          "base_uri": "https://localhost:8080/"
        },
        "outputId": "1d5734cf-847b-4924-8208-e8a74e6dac6b"
      },
      "outputs": [
        {
          "output_type": "execute_result",
          "data": {
            "text/plain": [
              "(torch.Size([64, 3, 128, 128]), torch.Size([64, 35]), torch.Size([64, 35]))"
            ]
          },
          "metadata": {},
          "execution_count": 82
        }
      ],
      "source": [
        "enc_batch.shape, dec_batch.shape, target_batch.shape"
      ]
    },
    {
      "cell_type": "markdown",
      "metadata": {
        "id": "SjVoHg5VtxWT"
      },
      "source": [
        "### Transformer"
      ]
    },
    {
      "cell_type": "code",
      "execution_count": 99,
      "metadata": {
        "id": "MNOuhWgj_o8z",
        "scrolled": true,
        "tags": []
      },
      "outputs": [],
      "source": [
        "class Transformer(nn.Module):\n",
        "    def __init__(self, bert_model, dim, vocab_size, maxlen, depth=3, mlp_dim=512, rate=0.2):\n",
        "        super().__init__()\n",
        "        self.depth = depth\n",
        "        self.bert_model = bert_model\n",
        "        self.embedding = nn.Embedding(vocab_size, dim)\n",
        "        self.pos_embedding = nn.Parameter(torch.randn(1, maxlen, dim))\n",
        "        self.decoder = nn.ModuleList([DecoderBlock(dim, maxlen) for _ in range(self.depth)])\n",
        "        self.head = nn.Linear(dim, vocab_size, bias=False)\n",
        "        self.cnn = CNN(dim)\n",
        "\n",
        "    def forward(self, x, context):\n",
        "        B, L = x.shape\n",
        "        x = self.embedding(x)\n",
        "        x += self.pos_embedding[:, :L]\n",
        "        context = self.cnn(context)\n",
        "        for layer in self.decoder:\n",
        "            x = layer([x, context])\n",
        "        x = self.head(x)\n",
        "        return x\n",
        "\n",
        "\n",
        "\n",
        "device = torch.device('cuda:0' if torch.cuda.is_available() else 'cpu')\n",
        "transformer = Transformer(bert_model, dim=64, vocab_size=vocab_size, maxlen=maxlen, depth=3, mlp_dim=128)\n",
        "transformer.to(device)\n",
        "optimizer = optim.Adam(transformer.parameters(), lr=0.001)\n",
        "loss_fn = nn.CrossEntropyLoss(ignore_index=tokenizer.pad_token_id)"
      ]
    },
    {
      "cell_type": "markdown",
      "metadata": {
        "id": "MsJbLyZ6b_57"
      },
      "source": [
        "## 4.- Training"
      ]
    },
    {
      "cell_type": "code",
      "execution_count": 100,
      "metadata": {
        "id": "EvsuJHMBlm9y",
        "colab": {
          "base_uri": "https://localhost:8080/"
        },
        "outputId": "504734a1-7410-4e9e-c6bd-6ac45a3e3d6b"
      },
      "outputs": [
        {
          "output_type": "stream",
          "name": "stdout",
          "text": [
            "cuda:0\n"
          ]
        },
        {
          "output_type": "execute_result",
          "data": {
            "text/plain": [
              "Transformer(\n",
              "  (bert_model): DistilBertModel(\n",
              "    (embeddings): Embeddings(\n",
              "      (word_embeddings): Embedding(30522, 768, padding_idx=0)\n",
              "      (position_embeddings): Embedding(512, 768)\n",
              "      (LayerNorm): LayerNorm((768,), eps=1e-12, elementwise_affine=True)\n",
              "      (dropout): Dropout(p=0.1, inplace=False)\n",
              "    )\n",
              "    (transformer): Transformer(\n",
              "      (layer): ModuleList(\n",
              "        (0-5): 6 x TransformerBlock(\n",
              "          (attention): MultiHeadSelfAttention(\n",
              "            (dropout): Dropout(p=0.1, inplace=False)\n",
              "            (q_lin): Linear(in_features=768, out_features=768, bias=True)\n",
              "            (k_lin): Linear(in_features=768, out_features=768, bias=True)\n",
              "            (v_lin): Linear(in_features=768, out_features=768, bias=True)\n",
              "            (out_lin): Linear(in_features=768, out_features=768, bias=True)\n",
              "          )\n",
              "          (sa_layer_norm): LayerNorm((768,), eps=1e-12, elementwise_affine=True)\n",
              "          (ffn): FFN(\n",
              "            (dropout): Dropout(p=0.1, inplace=False)\n",
              "            (lin1): Linear(in_features=768, out_features=3072, bias=True)\n",
              "            (lin2): Linear(in_features=3072, out_features=768, bias=True)\n",
              "            (activation): GELUActivation()\n",
              "          )\n",
              "          (output_layer_norm): LayerNorm((768,), eps=1e-12, elementwise_affine=True)\n",
              "        )\n",
              "      )\n",
              "    )\n",
              "  )\n",
              "  (embedding): Embedding(30522, 64)\n",
              "  (decoder): ModuleList(\n",
              "    (0-2): 3 x DecoderBlock(\n",
              "      (ln_1): LayerNorm((64,), eps=1e-05, elementwise_affine=True)\n",
              "      (attn): Attention(\n",
              "        (wq): Linear(in_features=64, out_features=64, bias=True)\n",
              "        (wk): Linear(in_features=64, out_features=64, bias=True)\n",
              "        (wv): Linear(in_features=64, out_features=64, bias=True)\n",
              "        (wo): Linear(in_features=64, out_features=64, bias=True)\n",
              "      )\n",
              "      (cross_attn): Attention(\n",
              "        (wq): Linear(in_features=64, out_features=64, bias=True)\n",
              "        (wk): Linear(in_features=64, out_features=64, bias=True)\n",
              "        (wv): Linear(in_features=64, out_features=64, bias=True)\n",
              "        (wo): Linear(in_features=64, out_features=64, bias=True)\n",
              "      )\n",
              "      (ln_2): LayerNorm((64,), eps=1e-05, elementwise_affine=True)\n",
              "      (ln_3): LayerNorm((64,), eps=1e-05, elementwise_affine=True)\n",
              "      (mlp): Sequential(\n",
              "        (0): Linear(in_features=64, out_features=512, bias=True)\n",
              "        (1): GELU(approximate='none')\n",
              "        (2): Dropout(p=0.0, inplace=False)\n",
              "        (3): Linear(in_features=512, out_features=64, bias=True)\n",
              "        (4): Dropout(p=0.0, inplace=False)\n",
              "      )\n",
              "    )\n",
              "  )\n",
              "  (head): Linear(in_features=64, out_features=30522, bias=False)\n",
              "  (cnn): CNN(\n",
              "    (down_block): Sequential(\n",
              "      (0): Conv2d(3, 8, kernel_size=(3, 3), stride=(1, 1), padding=(1, 1), bias=False)\n",
              "      (1): BatchNorm2d(8, eps=1e-05, momentum=0.1, affine=True, track_running_stats=True)\n",
              "      (2): LeakyReLU(negative_slope=0.2, inplace=True)\n",
              "      (3): DownBlockComp(\n",
              "        (main): Sequential(\n",
              "          (0): Conv2d(8, 16, kernel_size=(3, 3), stride=(2, 2), padding=(1, 1), bias=False)\n",
              "          (1): BatchNorm2d(16, eps=1e-05, momentum=0.1, affine=True, track_running_stats=True)\n",
              "          (2): LeakyReLU(negative_slope=0.2, inplace=True)\n",
              "        )\n",
              "        (direct): Sequential(\n",
              "          (0): AvgPool2d(kernel_size=2, stride=2, padding=0)\n",
              "          (1): Conv2d(8, 16, kernel_size=(1, 1), stride=(1, 1), bias=False)\n",
              "          (2): BatchNorm2d(16, eps=1e-05, momentum=0.1, affine=True, track_running_stats=True)\n",
              "          (3): LeakyReLU(negative_slope=0.2, inplace=True)\n",
              "        )\n",
              "      )\n",
              "      (4): DownBlockComp(\n",
              "        (main): Sequential(\n",
              "          (0): Conv2d(16, 32, kernel_size=(3, 3), stride=(2, 2), padding=(1, 1), bias=False)\n",
              "          (1): BatchNorm2d(32, eps=1e-05, momentum=0.1, affine=True, track_running_stats=True)\n",
              "          (2): LeakyReLU(negative_slope=0.2, inplace=True)\n",
              "        )\n",
              "        (direct): Sequential(\n",
              "          (0): AvgPool2d(kernel_size=2, stride=2, padding=0)\n",
              "          (1): Conv2d(16, 32, kernel_size=(1, 1), stride=(1, 1), bias=False)\n",
              "          (2): BatchNorm2d(32, eps=1e-05, momentum=0.1, affine=True, track_running_stats=True)\n",
              "          (3): LeakyReLU(negative_slope=0.2, inplace=True)\n",
              "        )\n",
              "      )\n",
              "      (5): DownBlockComp(\n",
              "        (main): Sequential(\n",
              "          (0): Conv2d(32, 64, kernel_size=(3, 3), stride=(2, 2), padding=(1, 1), bias=False)\n",
              "          (1): BatchNorm2d(64, eps=1e-05, momentum=0.1, affine=True, track_running_stats=True)\n",
              "          (2): LeakyReLU(negative_slope=0.2, inplace=True)\n",
              "        )\n",
              "        (direct): Sequential(\n",
              "          (0): AvgPool2d(kernel_size=2, stride=2, padding=0)\n",
              "          (1): Conv2d(32, 64, kernel_size=(1, 1), stride=(1, 1), bias=False)\n",
              "          (2): BatchNorm2d(64, eps=1e-05, momentum=0.1, affine=True, track_running_stats=True)\n",
              "          (3): LeakyReLU(negative_slope=0.2, inplace=True)\n",
              "        )\n",
              "      )\n",
              "      (6): DownBlockComp(\n",
              "        (main): Sequential(\n",
              "          (0): Conv2d(64, 64, kernel_size=(3, 3), stride=(2, 2), padding=(1, 1), bias=False)\n",
              "          (1): BatchNorm2d(64, eps=1e-05, momentum=0.1, affine=True, track_running_stats=True)\n",
              "          (2): LeakyReLU(negative_slope=0.2, inplace=True)\n",
              "        )\n",
              "        (direct): Sequential(\n",
              "          (0): AvgPool2d(kernel_size=2, stride=2, padding=0)\n",
              "          (1): Conv2d(64, 64, kernel_size=(1, 1), stride=(1, 1), bias=False)\n",
              "          (2): BatchNorm2d(64, eps=1e-05, momentum=0.1, affine=True, track_running_stats=True)\n",
              "          (3): LeakyReLU(negative_slope=0.2, inplace=True)\n",
              "        )\n",
              "      )\n",
              "      (7): Conv2d(64, 64, kernel_size=(3, 3), stride=(1, 1), bias=False)\n",
              "      (8): LeakyReLU(negative_slope=0.2, inplace=True)\n",
              "    )\n",
              "  )\n",
              ")"
            ]
          },
          "metadata": {},
          "execution_count": 100
        }
      ],
      "source": [
        "device = torch.device('cuda:0' if torch.cuda.is_available() else 'cpu')\n",
        "print(device)\n",
        "\n",
        "transformer.to(device)"
      ]
    },
    {
      "cell_type": "code",
      "execution_count": 101,
      "metadata": {
        "id": "wl9MQCp9TLCh"
      },
      "outputs": [],
      "source": [
        "lr = 1e-07\n",
        "\n",
        "optimizer = optim.Adam(transformer.parameters(), lr=lr)\n",
        "loss_fn = torch.nn.CrossEntropyLoss(ignore_index=tokenizer.pad_token_id)"
      ]
    },
    {
      "cell_type": "code",
      "execution_count": 102,
      "metadata": {
        "id": "R5bmAldOcJn0"
      },
      "outputs": [],
      "source": [
        "def train(model, device, train_loader, optimizer, epoch):\n",
        "    start = time.time()\n",
        "    running_loss = 0.0\n",
        "    model.train()\n",
        "    for inp_enc, inp_dec, tar_dec in train_loader:\n",
        "        tar_dec = tar_dec.reshape(-1)\n",
        "        inp_enc = inp_enc.to(device)\n",
        "        inp_dec = inp_dec.to(device)\n",
        "        tar_dec = tar_dec.to(device)\n",
        "        optimizer.zero_grad()\n",
        "        outputs = model(inp_dec, inp_enc)\n",
        "        outputs = outputs.view(-1, outputs.size(-1))\n",
        "        loss = loss_fn(outputs, tar_dec)\n",
        "        loss.backward()\n",
        "        optimizer.step()\n",
        "        running_loss += loss.item()\n",
        "    print(f'\\nTime for epoch {epoch} is {time.time()-start:.4f} sec Train loss: {running_loss / len(train_loader):.4f}')"
      ]
    },
    {
      "cell_type": "code",
      "execution_count": 103,
      "metadata": {
        "id": "c1NVXzmjtxWU",
        "colab": {
          "base_uri": "https://localhost:8080/"
        },
        "outputId": "1e632b2f-57b3-478e-ae4a-f10729c3e2d0"
      },
      "outputs": [
        {
          "output_type": "stream",
          "name": "stdout",
          "text": [
            "Generated text: newscasts fronts gamma leverageoides communicate stylistic nile delhi tales व 53hol conductedringtonᄌ streak trumpetaceous located remotelydhi relate [unused458] indicating م miniature nec 1716 extraordinary threatsrgh nationwide90 crossed unknown\n"
          ]
        }
      ],
      "source": [
        "def generate(model, image, tokenizer, device, maxlen):\n",
        "    model.eval()\n",
        "    with torch.no_grad():\n",
        "        image = image.unsqueeze(0).to(device)\n",
        "        idx = torch.tensor([tokenizer.cls_token_id], dtype=torch.long).to(device).unsqueeze(0)  # cls_token_id for BOS\n",
        "        for _ in range(maxlen):\n",
        "            logits = model(idx, image)[:, -1, :]\n",
        "            probs = torch.softmax(logits, dim=-1)\n",
        "            _, idx_next = torch.topk(probs, k=1, dim=-1)\n",
        "            if idx_next.item() == tokenizer.sep_token_id:  # sep_token_id for EOS\n",
        "                break\n",
        "            idx = torch.cat((idx, idx_next), dim=-1)\n",
        "        txt = tokenizer.decode(idx.squeeze().tolist(), skip_special_tokens=True)\n",
        "        print(f'Generated text: {txt}')\n",
        "\n",
        "\n",
        "generate(transformer, enc_batch[idx], tokenizer, device, maxlen)"
      ]
    },
    {
      "cell_type": "code",
      "execution_count": 104,
      "metadata": {
        "id": "gtR1RoSBkARg",
        "scrolled": true,
        "tags": [],
        "colab": {
          "base_uri": "https://localhost:8080/"
        },
        "outputId": "2cea65e7-46c6-46e1-d488-facf4d4b7564"
      },
      "outputs": [
        {
          "output_type": "stream",
          "name": "stdout",
          "text": [
            "\n",
            "Time for epoch 0 is 212.7866 sec Train loss: 10.4845\n",
            "Generated text: newscasts fronts gamma royce hauling sorbonne soluble 1966 tequila hint irene siena head patrick once blazed 00 threaded empiricalorough ge sawmillenting realise habsburg europe remy appreciate enslaved ে nape ч gettinguto everton keller\n",
            "\n",
            "Time for epoch 1 is 208.1908 sec Train loss: 10.4711\n",
            "Generated text: newscasts fronts gamma royce hauling sorbonne soluble 1966 tequila hint irene siena head akron 太 angola streak trumpetaceous xiao promptlyuca rolls cab maximum villaitunglby laguna ousted judgments touchdown rack iphone chemist peered\n",
            "\n",
            "Time for epoch 2 is 208.5850 sec Train loss: 10.4577\n",
            "Generated text: newscasts fronts gamma royce hauling sorbonne soluble 1966 tequila hint irene siena head akron neighborhoods play ংnessy lowland distinguishing liquoruca tracts continents lawful seminole racist windsher penitentiary intellectual desert semantics breaking infancy capcom\n",
            "\n",
            "Time for epoch 3 is 205.5661 sec Train loss: 10.4444\n",
            "Generated text: newscasts fronts gamma royce hauling sorbonne soluble 1966 tequila hint irene siena head akron neighborhoods play ংnessy lowland distinguishing liquoruca tracts continents lawful seminole racist windsher penitentiary intellectual desert semantics breaking infancy capcom\n",
            "\n",
            "Time for epoch 4 is 213.7326 sec Train loss: 10.4312\n",
            "Generated text: groups 316 benin ظulla kilometres staple recognizing リzing tasmanianusing 西iam instinctgrave robe threaded empiricalorough ge sawmillenting hermitage ensured punjabirsk enjoyed atlantic coat forthpa [unused36] salim scratch keller\n",
            "\n",
            "Time for epoch 5 is 204.8255 sec Train loss: 10.4179\n",
            "Generated text: groups 316 benin ظulla kilometres staple recognizing リ hint irene sienactic 天nifiedzos scroll anonymousango flashing ge sawmill [unused808] etatrie regarding buck elementary qin etudesб artifacts semantics visitma keller\n"
          ]
        }
      ],
      "source": [
        "epochs = 6\n",
        "for epoch in range(epochs):\n",
        "    train(transformer, device, train_loader, optimizer, epoch)\n",
        "    generate(transformer, enc_batch[idx], tokenizer, device, maxlen)"
      ]
    },
    {
      "cell_type": "markdown",
      "metadata": {
        "id": "bYbGZNhEtxWU"
      },
      "source": [
        "- Test the model on validation images."
      ]
    },
    {
      "cell_type": "code",
      "execution_count": 105,
      "metadata": {
        "id": "ywaVrMlZtxWV",
        "colab": {
          "base_uri": "https://localhost:8080/",
          "height": 246
        },
        "outputId": "05eb2fc2-d357-47ae-8017-f639ded34e23"
      },
      "outputs": [
        {
          "output_type": "display_data",
          "data": {
            "text/plain": [
              "<Figure size 200x200 with 1 Axes>"
            ],
            "image/png": "[encoded data removed]"
          },
          "metadata": {}
        },
        {
          "output_type": "stream",
          "name": "stdout",
          "text": [
            "Ground truth: the mans facial hair looks goofy and the shape and texture of his face looks almost lumpy and unrealistic.\n",
            "Generated text: groups 316 benin ظulla kilometres machmann grazed taboo hunts indigo trance frontsquet ोwearcoll bitch doping oral sandals taxis picassoeo exploded simpsons overcome general noticing robbersworkslandabble tapestry trondheim\n"
          ]
        }
      ],
      "source": [
        "idx = 47\n",
        "plot_img(enc_batch[idx], target_batch[idx])\n",
        "generate(transformer, enc_batch[idx], tokenizer, device, maxlen)"
      ]
    },
    {
      "cell_type": "code",
      "execution_count": 106,
      "metadata": {
        "id": "Nzdj4YINtxWV",
        "colab": {
          "base_uri": "https://localhost:8080/",
          "height": 246
        },
        "outputId": "204753f7-5a45-422c-d9c1-80bc45a53fc5"
      },
      "outputs": [
        {
          "output_type": "display_data",
          "data": {
            "text/plain": [
              "<Figure size 200x200 with 1 Axes>"
            ],
            "image/png": "[encoded data removed]"
          },
          "metadata": {}
        },
        {
          "output_type": "stream",
          "name": "stdout",
          "text": [
            "Ground truth: there is a spooky feel to this image, with the waters churning and the green sky overhead.\n",
            "Generated text: groups 316 benin ظulla kilometres machmann grazed taboo hunts indigo trance frontsquet ोwearcoll bitch doping oral sandals taxis picassoeo exploded simpsons overcome general noticing robbersworkslandabble tapestry trondheim\n"
          ]
        }
      ],
      "source": [
        "idx = 60\n",
        "plot_img(enc_batch[idx], target_batch[idx])\n",
        "generate(transformer, enc_batch[idx], tokenizer, device, maxlen)"
      ]
    },
    {
      "cell_type": "code",
      "execution_count": 107,
      "metadata": {
        "colab": {
          "base_uri": "https://localhost:8080/",
          "height": 196
        },
        "id": "DtT7hHRSkXRg",
        "outputId": "e7a6786a-e96e-420b-c235-e652879c856e"
      },
      "outputs": [
        {
          "output_type": "error",
          "ename": "IndexError",
          "evalue": "index 81 is out of bounds for dimension 0 with size 64",
          "traceback": [
            "\u001b[0;31m---------------------------------------------------------------------------\u001b[0m",
            "\u001b[0;31mIndexError\u001b[0m                                Traceback (most recent call last)",
            "\u001b[0;32m<ipython-input-107-c46887b1b479>\u001b[0m in \u001b[0;36m<cell line: 2>\u001b[0;34m()\u001b[0m\n\u001b[1;32m      1\u001b[0m \u001b[0midx\u001b[0m \u001b[0;34m=\u001b[0m \u001b[0;36m81\u001b[0m\u001b[0;34m\u001b[0m\u001b[0;34m\u001b[0m\u001b[0m\n\u001b[0;32m----> 2\u001b[0;31m \u001b[0mplot_img\u001b[0m\u001b[0;34m(\u001b[0m\u001b[0menc_batch\u001b[0m\u001b[0;34m[\u001b[0m\u001b[0midx\u001b[0m\u001b[0;34m]\u001b[0m\u001b[0;34m,\u001b[0m \u001b[0mtarget_batch\u001b[0m\u001b[0;34m[\u001b[0m\u001b[0midx\u001b[0m\u001b[0;34m]\u001b[0m\u001b[0;34m)\u001b[0m\u001b[0;34m\u001b[0m\u001b[0;34m\u001b[0m\u001b[0m\n\u001b[0m\u001b[1;32m      3\u001b[0m \u001b[0mgenerate\u001b[0m\u001b[0;34m(\u001b[0m\u001b[0mtransformer\u001b[0m\u001b[0;34m,\u001b[0m \u001b[0menc_batch\u001b[0m\u001b[0;34m[\u001b[0m\u001b[0midx\u001b[0m\u001b[0;34m]\u001b[0m\u001b[0;34m,\u001b[0m \u001b[0mtokenizer\u001b[0m\u001b[0;34m,\u001b[0m \u001b[0mdevice\u001b[0m\u001b[0;34m,\u001b[0m \u001b[0mmaxlen\u001b[0m\u001b[0;34m)\u001b[0m\u001b[0;34m\u001b[0m\u001b[0;34m\u001b[0m\u001b[0m\n",
            "\u001b[0;31mIndexError\u001b[0m: index 81 is out of bounds for dimension 0 with size 64"
          ]
        }
      ],
      "source": [
        "idx = 81\n",
        "plot_img(enc_batch[idx], target_batch[idx])\n",
        "generate(transformer, enc_batch[idx], tokenizer, device, maxlen)"
      ]
    }
  ],
  "metadata": {
    "accelerator": "GPU",
    "colab": {
      "provenance": [],
      "gpuType": "T4"
    },
    "kernelspec": {
      "display_name": "Python 3",
      "name": "python3"
    },
    "language_info": {
      "codemirror_mode": {
        "name": "ipython",
        "version": 3
      },
      "file_extension": ".py",
      "mimetype": "text/x-python",
      "name": "python",
      "nbconvert_exporter": "python",
      "pygments_lexer": "ipython3",
      "version": "3.10.13"
    }
  },
  "nbformat": 4,
  "nbformat_minor": 0
}
